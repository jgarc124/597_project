{
 "cells": [
  {
   "attachments": {},
   "cell_type": "markdown",
   "metadata": {},
   "source": [
    "# <b> Multi Logit Model 1 <b>"
   ]
  },
  {
   "attachments": {},
   "cell_type": "markdown",
   "metadata": {},
   "source": [
    "### <b> Multinomial Logistic Regression Model using Age, Race, Sex, and Offense Types as Features <b>"
   ]
  },
  {
   "attachments": {},
   "cell_type": "markdown",
   "metadata": {},
   "source": [
    "Load Necessary Libraries"
   ]
  },
  {
   "cell_type": "code",
   "execution_count": 251,
   "metadata": {},
   "outputs": [],
   "source": [
    "# importing libraries\n",
    "import pandas as pd\n",
    "import numpy as np\n",
    "import scipy as scp\n",
    "import sklearn\n",
    "import statsmodels.api as sm\n",
    "import matplotlib.pyplot as plt\n",
    "import seaborn as sns\n",
    "\n",
    "from sklearn.model_selection import train_test_split\n",
    "from sklearn.linear_model import LogisticRegression\n",
    "from sklearn.metrics import classification_report\n",
    "from sklearn import metrics\n",
    "from sklearn.metrics import confusion_matrix"
   ]
  },
  {
   "attachments": {},
   "cell_type": "markdown",
   "metadata": {},
   "source": [
    "Read Dataset"
   ]
  },
  {
   "cell_type": "code",
   "execution_count": 252,
   "metadata": {},
   "outputs": [
    {
     "data": {
      "text/html": [
       "<div>\n",
       "<style scoped>\n",
       "    .dataframe tbody tr th:only-of-type {\n",
       "        vertical-align: middle;\n",
       "    }\n",
       "\n",
       "    .dataframe tbody tr th {\n",
       "        vertical-align: top;\n",
       "    }\n",
       "\n",
       "    .dataframe thead th {\n",
       "        text-align: right;\n",
       "    }\n",
       "</style>\n",
       "<table border=\"1\" class=\"dataframe\">\n",
       "  <thead>\n",
       "    <tr style=\"text-align: right;\">\n",
       "      <th></th>\n",
       "      <th>Fiscal _Year_Released</th>\n",
       "      <th>Recidivism_Reporting_Year</th>\n",
       "      <th>Age_At_Release</th>\n",
       "      <th>Days_To_Return</th>\n",
       "      <th>Release_Type</th>\n",
       "      <th>Race_Ethnicity</th>\n",
       "      <th>Sex</th>\n",
       "      <th>Offense_Classification</th>\n",
       "      <th>Offense_Type</th>\n",
       "      <th>Offense_Subtype</th>\n",
       "      <th>New_Offense_Classification</th>\n",
       "      <th>New_Offense_Type</th>\n",
       "      <th>New_Offense_Subtype</th>\n",
       "      <th>Return_To_Prison</th>\n",
       "      <th>Recidivism_Type</th>\n",
       "    </tr>\n",
       "  </thead>\n",
       "  <tbody>\n",
       "    <tr>\n",
       "      <th>0</th>\n",
       "      <td>2010.0</td>\n",
       "      <td>2013.0</td>\n",
       "      <td>2.0</td>\n",
       "      <td>433.0</td>\n",
       "      <td>4.0</td>\n",
       "      <td>7.0</td>\n",
       "      <td>2.0</td>\n",
       "      <td>3.0</td>\n",
       "      <td>4.0</td>\n",
       "      <td>16.0</td>\n",
       "      <td>4.0</td>\n",
       "      <td>2.0</td>\n",
       "      <td>23.0</td>\n",
       "      <td>1.0</td>\n",
       "      <td>0.0</td>\n",
       "    </tr>\n",
       "    <tr>\n",
       "      <th>1</th>\n",
       "      <td>2010.0</td>\n",
       "      <td>2013.0</td>\n",
       "      <td>2.0</td>\n",
       "      <td>453.0</td>\n",
       "      <td>2.0</td>\n",
       "      <td>11.0</td>\n",
       "      <td>2.0</td>\n",
       "      <td>4.0</td>\n",
       "      <td>2.0</td>\n",
       "      <td>21.0</td>\n",
       "      <td>0.0</td>\n",
       "      <td>0.0</td>\n",
       "      <td>0.0</td>\n",
       "      <td>1.0</td>\n",
       "      <td>2.0</td>\n",
       "    </tr>\n",
       "    <tr>\n",
       "      <th>2</th>\n",
       "      <td>2010.0</td>\n",
       "      <td>2013.0</td>\n",
       "      <td>3.0</td>\n",
       "      <td>832.0</td>\n",
       "      <td>4.0</td>\n",
       "      <td>11.0</td>\n",
       "      <td>2.0</td>\n",
       "      <td>2.0</td>\n",
       "      <td>0.0</td>\n",
       "      <td>23.0</td>\n",
       "      <td>0.0</td>\n",
       "      <td>0.0</td>\n",
       "      <td>0.0</td>\n",
       "      <td>1.0</td>\n",
       "      <td>2.0</td>\n",
       "    </tr>\n",
       "    <tr>\n",
       "      <th>3</th>\n",
       "      <td>2010.0</td>\n",
       "      <td>2013.0</td>\n",
       "      <td>2.0</td>\n",
       "      <td>0.0</td>\n",
       "      <td>4.0</td>\n",
       "      <td>11.0</td>\n",
       "      <td>2.0</td>\n",
       "      <td>2.0</td>\n",
       "      <td>1.0</td>\n",
       "      <td>11.0</td>\n",
       "      <td>0.0</td>\n",
       "      <td>0.0</td>\n",
       "      <td>0.0</td>\n",
       "      <td>0.0</td>\n",
       "      <td>1.0</td>\n",
       "    </tr>\n",
       "    <tr>\n",
       "      <th>4</th>\n",
       "      <td>2010.0</td>\n",
       "      <td>2013.0</td>\n",
       "      <td>3.0</td>\n",
       "      <td>116.0</td>\n",
       "      <td>2.0</td>\n",
       "      <td>7.0</td>\n",
       "      <td>2.0</td>\n",
       "      <td>4.0</td>\n",
       "      <td>4.0</td>\n",
       "      <td>3.0</td>\n",
       "      <td>0.0</td>\n",
       "      <td>0.0</td>\n",
       "      <td>0.0</td>\n",
       "      <td>1.0</td>\n",
       "      <td>2.0</td>\n",
       "    </tr>\n",
       "    <tr>\n",
       "      <th>...</th>\n",
       "      <td>...</td>\n",
       "      <td>...</td>\n",
       "      <td>...</td>\n",
       "      <td>...</td>\n",
       "      <td>...</td>\n",
       "      <td>...</td>\n",
       "      <td>...</td>\n",
       "      <td>...</td>\n",
       "      <td>...</td>\n",
       "      <td>...</td>\n",
       "      <td>...</td>\n",
       "      <td>...</td>\n",
       "      <td>...</td>\n",
       "      <td>...</td>\n",
       "      <td>...</td>\n",
       "    </tr>\n",
       "    <tr>\n",
       "      <th>26015</th>\n",
       "      <td>2015.0</td>\n",
       "      <td>2018.0</td>\n",
       "      <td>1.0</td>\n",
       "      <td>0.0</td>\n",
       "      <td>6.0</td>\n",
       "      <td>10.0</td>\n",
       "      <td>2.0</td>\n",
       "      <td>3.0</td>\n",
       "      <td>4.0</td>\n",
       "      <td>3.0</td>\n",
       "      <td>0.0</td>\n",
       "      <td>0.0</td>\n",
       "      <td>0.0</td>\n",
       "      <td>0.0</td>\n",
       "      <td>1.0</td>\n",
       "    </tr>\n",
       "    <tr>\n",
       "      <th>26016</th>\n",
       "      <td>2015.0</td>\n",
       "      <td>2018.0</td>\n",
       "      <td>3.0</td>\n",
       "      <td>0.0</td>\n",
       "      <td>11.0</td>\n",
       "      <td>11.0</td>\n",
       "      <td>2.0</td>\n",
       "      <td>3.0</td>\n",
       "      <td>4.0</td>\n",
       "      <td>17.0</td>\n",
       "      <td>0.0</td>\n",
       "      <td>0.0</td>\n",
       "      <td>0.0</td>\n",
       "      <td>0.0</td>\n",
       "      <td>1.0</td>\n",
       "    </tr>\n",
       "    <tr>\n",
       "      <th>26017</th>\n",
       "      <td>2015.0</td>\n",
       "      <td>2018.0</td>\n",
       "      <td>2.0</td>\n",
       "      <td>0.0</td>\n",
       "      <td>5.0</td>\n",
       "      <td>11.0</td>\n",
       "      <td>1.0</td>\n",
       "      <td>1.0</td>\n",
       "      <td>3.0</td>\n",
       "      <td>22.0</td>\n",
       "      <td>0.0</td>\n",
       "      <td>0.0</td>\n",
       "      <td>0.0</td>\n",
       "      <td>0.0</td>\n",
       "      <td>1.0</td>\n",
       "    </tr>\n",
       "    <tr>\n",
       "      <th>26018</th>\n",
       "      <td>2015.0</td>\n",
       "      <td>2018.0</td>\n",
       "      <td>2.0</td>\n",
       "      <td>0.0</td>\n",
       "      <td>10.0</td>\n",
       "      <td>11.0</td>\n",
       "      <td>2.0</td>\n",
       "      <td>4.0</td>\n",
       "      <td>2.0</td>\n",
       "      <td>21.0</td>\n",
       "      <td>0.0</td>\n",
       "      <td>0.0</td>\n",
       "      <td>0.0</td>\n",
       "      <td>0.0</td>\n",
       "      <td>1.0</td>\n",
       "    </tr>\n",
       "    <tr>\n",
       "      <th>26019</th>\n",
       "      <td>2015.0</td>\n",
       "      <td>2018.0</td>\n",
       "      <td>3.0</td>\n",
       "      <td>369.0</td>\n",
       "      <td>8.0</td>\n",
       "      <td>11.0</td>\n",
       "      <td>2.0</td>\n",
       "      <td>4.0</td>\n",
       "      <td>4.0</td>\n",
       "      <td>9.0</td>\n",
       "      <td>5.0</td>\n",
       "      <td>10.0</td>\n",
       "      <td>10.0</td>\n",
       "      <td>1.0</td>\n",
       "      <td>2.0</td>\n",
       "    </tr>\n",
       "  </tbody>\n",
       "</table>\n",
       "<p>26020 rows × 15 columns</p>\n",
       "</div>"
      ],
      "text/plain": [
       "       Fiscal _Year_Released  Recidivism_Reporting_Year  Age_At_Release  \\\n",
       "0                     2010.0                     2013.0             2.0   \n",
       "1                     2010.0                     2013.0             2.0   \n",
       "2                     2010.0                     2013.0             3.0   \n",
       "3                     2010.0                     2013.0             2.0   \n",
       "4                     2010.0                     2013.0             3.0   \n",
       "...                      ...                        ...             ...   \n",
       "26015                 2015.0                     2018.0             1.0   \n",
       "26016                 2015.0                     2018.0             3.0   \n",
       "26017                 2015.0                     2018.0             2.0   \n",
       "26018                 2015.0                     2018.0             2.0   \n",
       "26019                 2015.0                     2018.0             3.0   \n",
       "\n",
       "       Days_To_Return  Release_Type  Race_Ethnicity  Sex  \\\n",
       "0               433.0           4.0             7.0  2.0   \n",
       "1               453.0           2.0            11.0  2.0   \n",
       "2               832.0           4.0            11.0  2.0   \n",
       "3                 0.0           4.0            11.0  2.0   \n",
       "4               116.0           2.0             7.0  2.0   \n",
       "...               ...           ...             ...  ...   \n",
       "26015             0.0           6.0            10.0  2.0   \n",
       "26016             0.0          11.0            11.0  2.0   \n",
       "26017             0.0           5.0            11.0  1.0   \n",
       "26018             0.0          10.0            11.0  2.0   \n",
       "26019           369.0           8.0            11.0  2.0   \n",
       "\n",
       "       Offense_Classification  Offense_Type  Offense_Subtype  \\\n",
       "0                         3.0           4.0             16.0   \n",
       "1                         4.0           2.0             21.0   \n",
       "2                         2.0           0.0             23.0   \n",
       "3                         2.0           1.0             11.0   \n",
       "4                         4.0           4.0              3.0   \n",
       "...                       ...           ...              ...   \n",
       "26015                     3.0           4.0              3.0   \n",
       "26016                     3.0           4.0             17.0   \n",
       "26017                     1.0           3.0             22.0   \n",
       "26018                     4.0           2.0             21.0   \n",
       "26019                     4.0           4.0              9.0   \n",
       "\n",
       "       New_Offense_Classification  New_Offense_Type  New_Offense_Subtype  \\\n",
       "0                             4.0               2.0                 23.0   \n",
       "1                             0.0               0.0                  0.0   \n",
       "2                             0.0               0.0                  0.0   \n",
       "3                             0.0               0.0                  0.0   \n",
       "4                             0.0               0.0                  0.0   \n",
       "...                           ...               ...                  ...   \n",
       "26015                         0.0               0.0                  0.0   \n",
       "26016                         0.0               0.0                  0.0   \n",
       "26017                         0.0               0.0                  0.0   \n",
       "26018                         0.0               0.0                  0.0   \n",
       "26019                         5.0              10.0                 10.0   \n",
       "\n",
       "       Return_To_Prison  Recidivism_Type  \n",
       "0                   1.0              0.0  \n",
       "1                   1.0              2.0  \n",
       "2                   1.0              2.0  \n",
       "3                   0.0              1.0  \n",
       "4                   1.0              2.0  \n",
       "...                 ...              ...  \n",
       "26015               0.0              1.0  \n",
       "26016               0.0              1.0  \n",
       "26017               0.0              1.0  \n",
       "26018               0.0              1.0  \n",
       "26019               1.0              2.0  \n",
       "\n",
       "[26020 rows x 15 columns]"
      ]
     },
     "execution_count": 252,
     "metadata": {},
     "output_type": "execute_result"
    }
   ],
   "source": [
    "# reading dataset using pandas\n",
    "data = pd.read_csv(r'iowa_rec_clean.csv')\n",
    "# print data\n",
    "data"
   ]
  },
  {
   "cell_type": "code",
   "execution_count": 253,
   "metadata": {},
   "outputs": [],
   "source": [
    "# remove unnecessary column\n",
    "data.drop(['Recidivism_Reporting_Year'], axis=1, inplace=True)"
   ]
  },
  {
   "cell_type": "code",
   "execution_count": 254,
   "metadata": {},
   "outputs": [
    {
     "name": "stdout",
     "output_type": "stream",
     "text": [
      "2.0    9554\n",
      "3.0    6223\n",
      "1.0    4590\n",
      "4.0    4347\n",
      "5.0    1303\n",
      "0.0       3\n",
      "Name: Age_At_Release, dtype: int64\n"
     ]
    }
   ],
   "source": [
    "# count of Age_At_Release contents\n",
    "data_age = data['Age_At_Release'].value_counts()\n",
    "print(data_age)"
   ]
  },
  {
   "cell_type": "code",
   "execution_count": 255,
   "metadata": {},
   "outputs": [
    {
     "name": "stdout",
     "output_type": "stream",
     "text": [
      "11.0    17584\n",
      "7.0      6109\n",
      "10.0     1522\n",
      "2.0       502\n",
      "4.0       192\n",
      "6.0        37\n",
      "0.0        30\n",
      "1.0        20\n",
      "9.0        12\n",
      "3.0         5\n",
      "8.0         5\n",
      "5.0         2\n",
      "Name: Race_Ethnicity, dtype: int64\n"
     ]
    }
   ],
   "source": [
    "# count of Race_Ethnicity contents\n",
    "data_race = data['Race_Ethnicity'].value_counts()\n",
    "print(data_race)"
   ]
  },
  {
   "cell_type": "code",
   "execution_count": 256,
   "metadata": {},
   "outputs": [
    {
     "name": "stdout",
     "output_type": "stream",
     "text": [
      "2.0    22678\n",
      "1.0     3339\n",
      "0.0        3\n",
      "Name: Sex, dtype: int64\n"
     ]
    }
   ],
   "source": [
    "# count of Sex contents\n",
    "data_sex = data['Sex'].value_counts()\n",
    "print(data_sex)"
   ]
  },
  {
   "attachments": {},
   "cell_type": "markdown",
   "metadata": {},
   "source": [
    "Feature Selection"
   ]
  },
  {
   "cell_type": "code",
   "execution_count": 257,
   "metadata": {},
   "outputs": [],
   "source": [
    "x1 = data[['Age_At_Release', 'Race_Ethnicity', 'Sex', 'Release_Type', 'Offense_Classification',\n",
    "          'Offense_Type', 'Offense_Subtype', 'New_Offense_Classification', 'New_Offense_Type', 'New_Offense_Subtype']].astype(float)\n",
    "y1 = data[['Return_To_Prison']].astype(float)"
   ]
  },
  {
   "cell_type": "code",
   "execution_count": 258,
   "metadata": {},
   "outputs": [
    {
     "name": "stdout",
     "output_type": "stream",
     "text": [
      "['Age_At_Release', 'Race_Ethnicity', 'Sex', 'Release_Type', 'Offense_Classification', 'Offense_Type', 'Offense_Subtype', 'New_Offense_Classification', 'New_Offense_Type', 'New_Offense_Subtype']\n"
     ]
    }
   ],
   "source": [
    "print(list(x1.columns.values))"
   ]
  },
  {
   "cell_type": "code",
   "execution_count": 259,
   "metadata": {},
   "outputs": [
    {
     "name": "stdout",
     "output_type": "stream",
     "text": [
      "['Return_To_Prison']\n"
     ]
    }
   ],
   "source": [
    "print(list(y1.columns.values))"
   ]
  },
  {
   "attachments": {},
   "cell_type": "markdown",
   "metadata": {},
   "source": [
    "Split Dataset"
   ]
  },
  {
   "cell_type": "code",
   "execution_count": 260,
   "metadata": {},
   "outputs": [],
   "source": [
    "x_train1, x_test1, y_train1, y_test1 = train_test_split(x1, y1, test_size=0.20, random_state=5)"
   ]
  },
  {
   "cell_type": "code",
   "execution_count": 261,
   "metadata": {},
   "outputs": [
    {
     "name": "stdout",
     "output_type": "stream",
     "text": [
      "(20816, 10)\n",
      "(5204, 10)\n",
      "(20816, 1)\n",
      "(5204, 1)\n"
     ]
    }
   ],
   "source": [
    "print(x_train1.shape)\n",
    "print(x_test1.shape)\n",
    "print(y_train1.shape)\n",
    "print(y_test1.shape)"
   ]
  },
  {
   "cell_type": "code",
   "execution_count": 262,
   "metadata": {},
   "outputs": [],
   "source": [
    "y_train1 = y_train1.values.ravel()"
   ]
  },
  {
   "attachments": {},
   "cell_type": "markdown",
   "metadata": {},
   "source": [
    "Predict Classification"
   ]
  },
  {
   "cell_type": "code",
   "execution_count": 263,
   "metadata": {},
   "outputs": [],
   "source": [
    "model1 = LogisticRegression(random_state=5, multi_class='multinomial', penalty='none', solver='newton-cg').fit(x_train1, y_train1)"
   ]
  },
  {
   "cell_type": "code",
   "execution_count": 264,
   "metadata": {},
   "outputs": [],
   "source": [
    "pred1 = model1.predict(x_test1)"
   ]
  },
  {
   "cell_type": "code",
   "execution_count": 265,
   "metadata": {},
   "outputs": [
    {
     "name": "stdout",
     "output_type": "stream",
     "text": [
      "{'C': 1.0, 'class_weight': None, 'dual': False, 'fit_intercept': True, 'intercept_scaling': 1, 'l1_ratio': None, 'max_iter': 100, 'multi_class': 'multinomial', 'n_jobs': None, 'penalty': 'none', 'random_state': 5, 'solver': 'newton-cg', 'tol': 0.0001, 'verbose': 0, 'warm_start': False}\n"
     ]
    }
   ],
   "source": [
    "param = model1.get_params()\n",
    "print(param)"
   ]
  },
  {
   "attachments": {},
   "cell_type": "markdown",
   "metadata": {},
   "source": [
    "Print Model Parameters"
   ]
  },
  {
   "cell_type": "code",
   "execution_count": 266,
   "metadata": {},
   "outputs": [
    {
     "name": "stdout",
     "output_type": "stream",
     "text": [
      "Intercept: \n",
      " [-1.46584938]\n",
      "Coefficients: \n",
      " [[-1.03004394e-01  2.55002012e-03  5.66714467e-02  1.29768427e-01\n",
      "   2.82184956e-02 -8.09720860e-02  8.89092565e-04  8.30445569e-01\n",
      "   1.15441391e+00  1.00906429e+00]]\n"
     ]
    }
   ],
   "source": [
    "print('Intercept: \\n', model1.intercept_)\n",
    "print('Coefficients: \\n', model1.coef_)"
   ]
  },
  {
   "attachments": {},
   "cell_type": "markdown",
   "metadata": {},
   "source": [
    "Calculate Odds Ratio Estimates"
   ]
  },
  {
   "cell_type": "code",
   "execution_count": 267,
   "metadata": {},
   "outputs": [
    {
     "data": {
      "text/plain": [
       "array([[0.90212301, 1.00255327, 1.05830804, 1.13856469, 1.02862041,\n",
       "        0.92221943, 1.00088949, 2.2943408 , 3.17216369, 2.74303314]])"
      ]
     },
     "execution_count": 267,
     "metadata": {},
     "output_type": "execute_result"
    }
   ],
   "source": [
    "np.exp(model1.coef_)"
   ]
  },
  {
   "attachments": {},
   "cell_type": "markdown",
   "metadata": {},
   "source": [
    "Statsmodels to Assess Variables"
   ]
  },
  {
   "cell_type": "code",
   "execution_count": 268,
   "metadata": {},
   "outputs": [
    {
     "data": {
      "text/plain": [
       "array([[2.010e+03, 2.000e+00, 4.330e+02, ..., 2.300e+01, 1.000e+00,\n",
       "        0.000e+00],\n",
       "       [2.010e+03, 2.000e+00, 4.530e+02, ..., 0.000e+00, 1.000e+00,\n",
       "        2.000e+00],\n",
       "       [2.010e+03, 3.000e+00, 8.320e+02, ..., 0.000e+00, 1.000e+00,\n",
       "        2.000e+00],\n",
       "       ...,\n",
       "       [2.015e+03, 2.000e+00, 0.000e+00, ..., 0.000e+00, 0.000e+00,\n",
       "        1.000e+00],\n",
       "       [2.015e+03, 2.000e+00, 0.000e+00, ..., 0.000e+00, 0.000e+00,\n",
       "        1.000e+00],\n",
       "       [2.015e+03, 3.000e+00, 3.690e+02, ..., 1.000e+01, 1.000e+00,\n",
       "        2.000e+00]])"
      ]
     },
     "execution_count": 268,
     "metadata": {},
     "output_type": "execute_result"
    }
   ],
   "source": [
    "np.asarray(data)"
   ]
  },
  {
   "cell_type": "code",
   "execution_count": 269,
   "metadata": {},
   "outputs": [],
   "source": [
    "logit_model1 = sm.MNLogit(y_train1, sm.add_constant(x_train1))"
   ]
  },
  {
   "cell_type": "code",
   "execution_count": 270,
   "metadata": {},
   "outputs": [
    {
     "name": "stdout",
     "output_type": "stream",
     "text": [
      "Warning: Maximum number of iterations has been exceeded.\n",
      "         Current function value: 0.225548\n",
      "         Iterations: 35\n",
      "                          MNLogit Regression Results                          \n",
      "==============================================================================\n",
      "Dep. Variable:                      y   No. Observations:                20816\n",
      "Model:                        MNLogit   Df Residuals:                    20805\n",
      "Method:                           MLE   Df Model:                           10\n",
      "Date:                Sun, 07 May 2023   Pseudo R-squ.:                  0.6459\n",
      "Time:                        13:16:30   Log-Likelihood:                -4695.0\n",
      "converged:                      False   LL-Null:                       -13258.\n",
      "Covariance Type:            nonrobust   LLR p-value:                     0.000\n",
      "==============================================================================================\n",
      "                       y=1       coef    std err          z      P>|z|      [0.025      0.975]\n",
      "----------------------------------------------------------------------------------------------\n",
      "const                         -2.9317      0.234    -12.531      0.000      -3.390      -2.473\n",
      "Age_At_Release                -0.2060      0.026     -8.063      0.000      -0.256      -0.156\n",
      "Race_Ethnicity                 0.0051      0.014      0.377      0.706      -0.021       0.032\n",
      "Sex                            0.1133      0.082      1.380      0.167      -0.048       0.274\n",
      "Release_Type                   0.2595      0.010     25.344      0.000       0.239       0.280\n",
      "Offense_Classification         0.0564      0.016      3.430      0.001       0.024       0.089\n",
      "Offense_Type                  -0.1619      0.021     -7.748      0.000      -0.203      -0.121\n",
      "Offense_Subtype                0.0018      0.004      0.450      0.653      -0.006       0.010\n",
      "New_Offense_Classification     3.2473   3.85e+04   8.43e-05      1.000   -7.55e+04    7.55e+04\n",
      "New_Offense_Type               2.8816   1.26e+04      0.000      1.000   -2.48e+04    2.48e+04\n",
      "New_Offense_Subtype            2.6991    1.2e+04      0.000      1.000   -2.36e+04    2.36e+04\n",
      "==============================================================================================\n",
      "                                  Results: MNLogit\n",
      "====================================================================================\n",
      "Model:                      MNLogit                Pseudo R-squared:       0.646    \n",
      "Dependent Variable:         y                      AIC:                    9412.0176\n",
      "Date:                       2023-05-07 13:16       BIC:                    9499.3958\n",
      "No. Observations:           20816                  Log-Likelihood:         -4695.0  \n",
      "Df Model:                   10                     LL-Null:                -13258.  \n",
      "Df Residuals:               20805                  LLR p-value:            0.0000   \n",
      "Converged:                  0.0000                 Scale:                  1.0000   \n",
      "No. Iterations:             35.0000                                                 \n",
      "------------------------------------------------------------------------------------\n",
      "          y = 0             Coef.   Std.Err.     t     P>|t|     [0.025     0.975]  \n",
      "------------------------------------------------------------------------------------\n",
      "                     const -2.9317     0.2340 -12.5311 0.0000     -3.3902    -2.4732\n",
      "            Age_At_Release -0.2060     0.0255  -8.0632 0.0000     -0.2561    -0.1559\n",
      "            Race_Ethnicity  0.0051     0.0135   0.3772 0.7060     -0.0214     0.0316\n",
      "                       Sex  0.1133     0.0821   1.3804 0.1675     -0.0476     0.2743\n",
      "              Release_Type  0.2595     0.0102  25.3436 0.0000      0.2395     0.2796\n",
      "    Offense_Classification  0.0564     0.0165   3.4302 0.0006      0.0242     0.0887\n",
      "              Offense_Type -0.1619     0.0209  -7.7476 0.0000     -0.2029    -0.1210\n",
      "           Offense_Subtype  0.0018     0.0040   0.4497 0.6529     -0.0060     0.0095\n",
      "New_Offense_Classification  3.2473 38537.2305   0.0001 0.9999 -75528.3365 75534.8310\n",
      "          New_Offense_Type  2.8816 12648.8939   0.0002 0.9998 -24788.4950 24794.2582\n",
      "       New_Offense_Subtype  2.6991 12040.5268   0.0002 0.9998 -23596.2998 23601.6980\n",
      "====================================================================================\n",
      "\n"
     ]
    },
    {
     "name": "stderr",
     "output_type": "stream",
     "text": [
      "c:\\Users\\janie\\anaconda3\\lib\\site-packages\\statsmodels\\base\\model.py:604: ConvergenceWarning: Maximum Likelihood optimization failed to converge. Check mle_retvals\n",
      "  warnings.warn(\"Maximum Likelihood optimization failed to \"\n"
     ]
    }
   ],
   "source": [
    "result = logit_model1.fit()\n",
    "stats1 = result.summary()\n",
    "stats2 = result.summary2()\n",
    "print(stats1)\n",
    "print(stats2)"
   ]
  },
  {
   "attachments": {},
   "cell_type": "markdown",
   "metadata": {},
   "source": [
    "## Testing"
   ]
  },
  {
   "attachments": {},
   "cell_type": "markdown",
   "metadata": {},
   "source": [
    "Accuracy"
   ]
  },
  {
   "cell_type": "code",
   "execution_count": 271,
   "metadata": {},
   "outputs": [
    {
     "name": "stdout",
     "output_type": "stream",
     "text": [
      "Accuracy Score: 0.9265949269792467\n"
     ]
    }
   ],
   "source": [
    "print('Accuracy Score:', metrics.accuracy_score(y_test1, pred1))"
   ]
  },
  {
   "cell_type": "code",
   "execution_count": 272,
   "metadata": {},
   "outputs": [
    {
     "name": "stdout",
     "output_type": "stream",
     "text": [
      "              precision    recall  f1-score   support\n",
      "\n",
      "         0.0       0.90      1.00      0.95      3473\n",
      "         1.0       1.00      0.78      0.88      1731\n",
      "\n",
      "    accuracy                           0.93      5204\n",
      "   macro avg       0.95      0.89      0.91      5204\n",
      "weighted avg       0.93      0.93      0.92      5204\n",
      "\n"
     ]
    }
   ],
   "source": [
    "class_report = classification_report(y_test1, pred1)\n",
    "print(class_report)"
   ]
  },
  {
   "attachments": {},
   "cell_type": "markdown",
   "metadata": {},
   "source": [
    "Overfitting vs Underfitting"
   ]
  },
  {
   "cell_type": "code",
   "execution_count": 273,
   "metadata": {},
   "outputs": [
    {
     "name": "stdout",
     "output_type": "stream",
     "text": [
      "Training set score: 0.9247\n"
     ]
    }
   ],
   "source": [
    "print(\"Training set score: {:.4f}\".format(model1.score(x_train1, y_train1)))"
   ]
  },
  {
   "cell_type": "code",
   "execution_count": 274,
   "metadata": {},
   "outputs": [
    {
     "name": "stdout",
     "output_type": "stream",
     "text": [
      "Test set score: 0.9266\n"
     ]
    }
   ],
   "source": [
    "print(\"Test set score: {:.4f}\".format(model1.score(x_test1, y_test1)))"
   ]
  },
  {
   "attachments": {},
   "cell_type": "markdown",
   "metadata": {},
   "source": [
    "Metrics Analysis"
   ]
  },
  {
   "cell_type": "code",
   "execution_count": 275,
   "metadata": {},
   "outputs": [],
   "source": [
    "from sklearn.metrics import confusion_matrix\n",
    "y_pred1 = model1.predict(x_test1)"
   ]
  },
  {
   "cell_type": "code",
   "execution_count": 276,
   "metadata": {},
   "outputs": [
    {
     "name": "stdout",
     "output_type": "stream",
     "text": [
      "[[3470    3]\n",
      " [ 379 1352]]\n"
     ]
    }
   ],
   "source": [
    "cm1 = confusion_matrix(y_test1, y_pred1)\n",
    "print(cm1)"
   ]
  },
  {
   "attachments": {},
   "cell_type": "markdown",
   "metadata": {},
   "source": [
    "# <b> Multi Logit Model 2 <b>"
   ]
  },
  {
   "attachments": {},
   "cell_type": "markdown",
   "metadata": {},
   "source": [
    "Feature Selection"
   ]
  },
  {
   "cell_type": "code",
   "execution_count": 277,
   "metadata": {},
   "outputs": [],
   "source": [
    "x2 = data[['Age_At_Release', 'Sex', 'Offense_Classification', \n",
    "          'Offense_Type', 'Offense_Subtype', 'New_Offense_Classification', \n",
    "          'New_Offense_Type', 'New_Offense_Subtype']].astype(float)\n",
    "y2 = data[['Return_To_Prison']].astype(float)"
   ]
  },
  {
   "cell_type": "code",
   "execution_count": 278,
   "metadata": {},
   "outputs": [
    {
     "name": "stdout",
     "output_type": "stream",
     "text": [
      "['Age_At_Release', 'Sex', 'Offense_Classification', 'Offense_Type', 'Offense_Subtype', 'New_Offense_Classification', 'New_Offense_Type', 'New_Offense_Subtype']\n"
     ]
    }
   ],
   "source": [
    "print(list(x2.columns.values))"
   ]
  },
  {
   "cell_type": "code",
   "execution_count": 279,
   "metadata": {},
   "outputs": [
    {
     "name": "stdout",
     "output_type": "stream",
     "text": [
      "['Return_To_Prison']\n"
     ]
    }
   ],
   "source": [
    "print(list(y2.columns.values))"
   ]
  },
  {
   "attachments": {},
   "cell_type": "markdown",
   "metadata": {},
   "source": [
    "Splitting Dataset"
   ]
  },
  {
   "cell_type": "code",
   "execution_count": 280,
   "metadata": {},
   "outputs": [],
   "source": [
    "x_train2, x_test2, y_train2, y_test2 = train_test_split(x2, y2, test_size=0.20, random_state=5)"
   ]
  },
  {
   "cell_type": "code",
   "execution_count": 281,
   "metadata": {},
   "outputs": [
    {
     "name": "stdout",
     "output_type": "stream",
     "text": [
      "(20816, 8)\n",
      "(5204, 8)\n",
      "(20816, 1)\n",
      "(5204, 1)\n"
     ]
    }
   ],
   "source": [
    "print(x_train2.shape)\n",
    "print(x_test2.shape)\n",
    "print(y_train2.shape)\n",
    "print(y_test2.shape)"
   ]
  },
  {
   "cell_type": "code",
   "execution_count": 282,
   "metadata": {},
   "outputs": [],
   "source": [
    "y_train2 = y_train2.values.ravel()"
   ]
  },
  {
   "attachments": {},
   "cell_type": "markdown",
   "metadata": {},
   "source": [
    "Predict Classification"
   ]
  },
  {
   "cell_type": "code",
   "execution_count": 283,
   "metadata": {},
   "outputs": [],
   "source": [
    "model2 = LogisticRegression(random_state=5, multi_class='multinomial', penalty='none', solver='newton-cg').fit(x_train2, y_train2)"
   ]
  },
  {
   "cell_type": "code",
   "execution_count": 284,
   "metadata": {},
   "outputs": [],
   "source": [
    "pred2 = model2.predict(x_test2)"
   ]
  },
  {
   "cell_type": "code",
   "execution_count": 285,
   "metadata": {},
   "outputs": [
    {
     "name": "stdout",
     "output_type": "stream",
     "text": [
      "{'C': 1.0, 'class_weight': None, 'dual': False, 'fit_intercept': True, 'intercept_scaling': 1, 'l1_ratio': None, 'max_iter': 100, 'multi_class': 'multinomial', 'n_jobs': None, 'penalty': 'none', 'random_state': 5, 'solver': 'newton-cg', 'tol': 0.0001, 'verbose': 0, 'warm_start': False}\n"
     ]
    }
   ],
   "source": [
    "param2 = model2.get_params()\n",
    "print(param2)"
   ]
  },
  {
   "attachments": {},
   "cell_type": "markdown",
   "metadata": {},
   "source": [
    "Print Model Parameters"
   ]
  },
  {
   "cell_type": "code",
   "execution_count": 286,
   "metadata": {},
   "outputs": [
    {
     "name": "stdout",
     "output_type": "stream",
     "text": [
      "Intercept: \n",
      " [-1.0617452]\n",
      "Coefficients: \n",
      " [[-0.09757709  0.0564979   0.02898776 -0.04929458  0.0074806   0.80934889\n",
      "   1.13547687  1.01481757]]\n"
     ]
    }
   ],
   "source": [
    "print('Intercept: \\n', model2.intercept_)\n",
    "print('Coefficients: \\n', model2.coef_)"
   ]
  },
  {
   "attachments": {},
   "cell_type": "markdown",
   "metadata": {},
   "source": [
    "Calculate Odds Ratio Estimates"
   ]
  },
  {
   "cell_type": "code",
   "execution_count": 287,
   "metadata": {},
   "outputs": [
    {
     "data": {
      "text/plain": [
       "array([[0.90703241, 1.05812439, 1.029412  , 0.95190068, 1.00750865,\n",
       "        2.24644483, 3.11265751, 2.75886005]])"
      ]
     },
     "execution_count": 287,
     "metadata": {},
     "output_type": "execute_result"
    }
   ],
   "source": [
    "np.exp(model2.coef_)"
   ]
  },
  {
   "attachments": {},
   "cell_type": "markdown",
   "metadata": {},
   "source": [
    "Statsmodels to Assess Variables"
   ]
  },
  {
   "cell_type": "code",
   "execution_count": 288,
   "metadata": {},
   "outputs": [
    {
     "data": {
      "text/plain": [
       "array([[2.010e+03, 2.000e+00, 4.330e+02, ..., 2.300e+01, 1.000e+00,\n",
       "        0.000e+00],\n",
       "       [2.010e+03, 2.000e+00, 4.530e+02, ..., 0.000e+00, 1.000e+00,\n",
       "        2.000e+00],\n",
       "       [2.010e+03, 3.000e+00, 8.320e+02, ..., 0.000e+00, 1.000e+00,\n",
       "        2.000e+00],\n",
       "       ...,\n",
       "       [2.015e+03, 2.000e+00, 0.000e+00, ..., 0.000e+00, 0.000e+00,\n",
       "        1.000e+00],\n",
       "       [2.015e+03, 2.000e+00, 0.000e+00, ..., 0.000e+00, 0.000e+00,\n",
       "        1.000e+00],\n",
       "       [2.015e+03, 3.000e+00, 3.690e+02, ..., 1.000e+01, 1.000e+00,\n",
       "        2.000e+00]])"
      ]
     },
     "execution_count": 288,
     "metadata": {},
     "output_type": "execute_result"
    }
   ],
   "source": [
    "np.asarray(data)"
   ]
  },
  {
   "cell_type": "code",
   "execution_count": 289,
   "metadata": {},
   "outputs": [],
   "source": [
    "logit_model2 = sm.MNLogit(y_train2, sm.add_constant(x_train2))"
   ]
  },
  {
   "cell_type": "code",
   "execution_count": 290,
   "metadata": {},
   "outputs": [
    {
     "name": "stdout",
     "output_type": "stream",
     "text": [
      "Warning: Maximum number of iterations has been exceeded.\n",
      "         Current function value: 0.240504\n",
      "         Iterations: 35\n",
      "                          MNLogit Regression Results                          \n",
      "==============================================================================\n",
      "Dep. Variable:                      y   No. Observations:                20816\n",
      "Model:                        MNLogit   Df Residuals:                    20807\n",
      "Method:                           MLE   Df Model:                            8\n",
      "Date:                Sun, 07 May 2023   Pseudo R-squ.:                  0.6224\n",
      "Time:                        13:16:34   Log-Likelihood:                -5006.3\n",
      "converged:                      False   LL-Null:                       -13258.\n",
      "Covariance Type:            nonrobust   LLR p-value:                     0.000\n",
      "==============================================================================================\n",
      "                       y=1       coef    std err          z      P>|z|      [0.025      0.975]\n",
      "----------------------------------------------------------------------------------------------\n",
      "const                         -2.1235      0.190    -11.190      0.000      -2.495      -1.752\n",
      "Age_At_Release                -0.1952      0.025     -7.877      0.000      -0.244      -0.147\n",
      "Sex                            0.1130      0.081      1.401      0.161      -0.045       0.271\n",
      "Offense_Classification         0.0580      0.017      3.513      0.000       0.026       0.090\n",
      "Offense_Type                  -0.0986      0.021     -4.781      0.000      -0.139      -0.058\n",
      "Offense_Subtype                0.0150      0.004      3.901      0.000       0.007       0.022\n",
      "New_Offense_Classification     3.1248   3.81e+04    8.2e-05      1.000   -7.47e+04    7.47e+04\n",
      "New_Offense_Type               2.9417   1.51e+04      0.000      1.000   -2.96e+04    2.96e+04\n",
      "New_Offense_Subtype            2.8334   1.47e+04      0.000      1.000   -2.89e+04    2.89e+04\n",
      "==============================================================================================\n",
      "                                  Results: MNLogit\n",
      "====================================================================================\n",
      "Model:                     MNLogit                Pseudo R-squared:       0.622     \n",
      "Dependent Variable:        y                      AIC:                    10030.6441\n",
      "Date:                      2023-05-07 13:16       BIC:                    10102.1353\n",
      "No. Observations:          20816                  Log-Likelihood:         -5006.3   \n",
      "Df Model:                  8                      LL-Null:                -13258.   \n",
      "Df Residuals:              20807                  LLR p-value:            0.0000    \n",
      "Converged:                 0.0000                 Scale:                  1.0000    \n",
      "No. Iterations:            35.0000                                                  \n",
      "------------------------------------------------------------------------------------\n",
      "          y = 0             Coef.   Std.Err.     t     P>|t|     [0.025     0.975]  \n",
      "------------------------------------------------------------------------------------\n",
      "                     const -2.1235     0.1898 -11.1899 0.0000     -2.4954    -1.7516\n",
      "            Age_At_Release -0.1952     0.0248  -7.8768 0.0000     -0.2437    -0.1466\n",
      "                       Sex  0.1130     0.0806   1.4012 0.1611     -0.0451     0.2710\n",
      "    Offense_Classification  0.0580     0.0165   3.5134 0.0004      0.0256     0.0903\n",
      "              Offense_Type -0.0986     0.0206  -4.7812 0.0000     -0.1390    -0.0582\n",
      "           Offense_Subtype  0.0150     0.0038   3.9009 0.0001      0.0074     0.0225\n",
      "New_Offense_Classification  3.1248 38119.3908   0.0001 0.9999 -74709.5083 74715.7580\n",
      "          New_Offense_Type  2.9417 15081.0794   0.0002 0.9998 -29555.4308 29561.3143\n",
      "       New_Offense_Subtype  2.8334 14726.3028   0.0002 0.9998 -28860.1898 28865.8565\n",
      "====================================================================================\n",
      "\n"
     ]
    },
    {
     "name": "stderr",
     "output_type": "stream",
     "text": [
      "c:\\Users\\janie\\anaconda3\\lib\\site-packages\\statsmodels\\base\\model.py:604: ConvergenceWarning: Maximum Likelihood optimization failed to converge. Check mle_retvals\n",
      "  warnings.warn(\"Maximum Likelihood optimization failed to \"\n"
     ]
    }
   ],
   "source": [
    "result2 = logit_model2.fit()\n",
    "stats1 = result2.summary()\n",
    "stats2 = result2.summary2()\n",
    "print(stats1)\n",
    "print(stats2)"
   ]
  },
  {
   "attachments": {},
   "cell_type": "markdown",
   "metadata": {},
   "source": [
    "## Testing"
   ]
  },
  {
   "attachments": {},
   "cell_type": "markdown",
   "metadata": {},
   "source": [
    "Overfitting vs Underfitting"
   ]
  },
  {
   "cell_type": "code",
   "execution_count": 291,
   "metadata": {},
   "outputs": [
    {
     "name": "stdout",
     "output_type": "stream",
     "text": [
      "Training set score: 0.9244\n"
     ]
    }
   ],
   "source": [
    "print(\"Training set score: {:.4f}\".format(model2.score(x_train2, y_train2)))"
   ]
  },
  {
   "cell_type": "code",
   "execution_count": 292,
   "metadata": {},
   "outputs": [
    {
     "name": "stdout",
     "output_type": "stream",
     "text": [
      "Test set score: 0.9252\n"
     ]
    }
   ],
   "source": [
    "print(\"Test set score: {:.4f}\".format(model2.score(x_test2, y_test2)))"
   ]
  },
  {
   "attachments": {},
   "cell_type": "markdown",
   "metadata": {},
   "source": [
    "Metrics Analysis"
   ]
  },
  {
   "cell_type": "code",
   "execution_count": 293,
   "metadata": {},
   "outputs": [],
   "source": [
    "from sklearn.metrics import classification_report\n",
    "y_pred2 = model2.predict(x_test2)"
   ]
  },
  {
   "cell_type": "code",
   "execution_count": 294,
   "metadata": {},
   "outputs": [
    {
     "name": "stdout",
     "output_type": "stream",
     "text": [
      "              precision    recall  f1-score   support\n",
      "\n",
      "         0.0       0.90      1.00      0.95      3473\n",
      "         1.0       1.00      0.78      0.87      1731\n",
      "\n",
      "    accuracy                           0.93      5204\n",
      "   macro avg       0.95      0.89      0.91      5204\n",
      "weighted avg       0.93      0.93      0.92      5204\n",
      "\n"
     ]
    }
   ],
   "source": [
    "report2 = classification_report(y_test2, y_pred2)\n",
    "print(report2)"
   ]
  }
 ],
 "metadata": {
  "kernelspec": {
   "display_name": "base",
   "language": "python",
   "name": "python3"
  },
  "language_info": {
   "codemirror_mode": {
    "name": "ipython",
    "version": 3
   },
   "file_extension": ".py",
   "mimetype": "text/x-python",
   "name": "python",
   "nbconvert_exporter": "python",
   "pygments_lexer": "ipython3",
   "version": "3.9.13"
  },
  "orig_nbformat": 4
 },
 "nbformat": 4,
 "nbformat_minor": 2
}
