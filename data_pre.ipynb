{
 "cells": [
  {
   "attachments": {},
   "cell_type": "markdown",
   "metadata": {},
   "source": [
    "Data Preprocessing"
   ]
  },
  {
   "attachments": {},
   "cell_type": "markdown",
   "metadata": {},
   "source": [
    "Locating Python"
   ]
  },
  {
   "cell_type": "code",
   "execution_count": 835,
   "metadata": {},
   "outputs": [
    {
     "name": "stdout",
     "output_type": "stream",
     "text": [
      "c:\\Users\\janie\\anaconda3\n"
     ]
    }
   ],
   "source": [
    "import sys\n",
    "locate_python = sys.exec_prefix\n",
    "print(locate_python)"
   ]
  },
  {
   "attachments": {},
   "cell_type": "markdown",
   "metadata": {},
   "source": [
    "Import Libraries and Dataset"
   ]
  },
  {
   "cell_type": "code",
   "execution_count": 836,
   "metadata": {},
   "outputs": [],
   "source": [
    "import numpy as np\n",
    "import pandas as pd "
   ]
  },
  {
   "cell_type": "code",
   "execution_count": 837,
   "metadata": {},
   "outputs": [
    {
     "data": {
      "text/html": [
       "<div>\n",
       "<style scoped>\n",
       "    .dataframe tbody tr th:only-of-type {\n",
       "        vertical-align: middle;\n",
       "    }\n",
       "\n",
       "    .dataframe tbody tr th {\n",
       "        vertical-align: top;\n",
       "    }\n",
       "\n",
       "    .dataframe thead th {\n",
       "        text-align: right;\n",
       "    }\n",
       "</style>\n",
       "<table border=\"1\" class=\"dataframe\">\n",
       "  <thead>\n",
       "    <tr style=\"text-align: right;\">\n",
       "      <th></th>\n",
       "      <th>Fiscal Year Released</th>\n",
       "      <th>Recidivism Reporting Year</th>\n",
       "      <th>Age At Release</th>\n",
       "      <th>Days to Return</th>\n",
       "      <th>Release Type</th>\n",
       "      <th>Race - Ethnicity</th>\n",
       "      <th>Sex</th>\n",
       "      <th>Offense Classification</th>\n",
       "      <th>Offense Type</th>\n",
       "      <th>Offense Subtype</th>\n",
       "      <th>Return to Prison</th>\n",
       "      <th>Recidivism Type</th>\n",
       "      <th>New Offense Classification</th>\n",
       "      <th>New Offense Type</th>\n",
       "      <th>New Offense Sub Type</th>\n",
       "      <th>Target Population</th>\n",
       "    </tr>\n",
       "  </thead>\n",
       "  <tbody>\n",
       "    <tr>\n",
       "      <th>0</th>\n",
       "      <td>2010</td>\n",
       "      <td>2013</td>\n",
       "      <td>25-34</td>\n",
       "      <td>433</td>\n",
       "      <td>Parole</td>\n",
       "      <td>Black - Non-Hispanic</td>\n",
       "      <td>Male</td>\n",
       "      <td>C Felony</td>\n",
       "      <td>Violent</td>\n",
       "      <td>Robbery</td>\n",
       "      <td>Yes</td>\n",
       "      <td>New</td>\n",
       "      <td>C Felony</td>\n",
       "      <td>Drug</td>\n",
       "      <td>Trafficking</td>\n",
       "      <td>Yes</td>\n",
       "    </tr>\n",
       "    <tr>\n",
       "      <th>1</th>\n",
       "      <td>2010</td>\n",
       "      <td>2013</td>\n",
       "      <td>25-34</td>\n",
       "      <td>453</td>\n",
       "      <td>Discharged or End of Sentence</td>\n",
       "      <td>White - Non-Hispanic</td>\n",
       "      <td>Male</td>\n",
       "      <td>D Felony</td>\n",
       "      <td>Property</td>\n",
       "      <td>Theft</td>\n",
       "      <td>Yes</td>\n",
       "      <td>Tech</td>\n",
       "      <td>0</td>\n",
       "      <td>0</td>\n",
       "      <td>0</td>\n",
       "      <td>No</td>\n",
       "    </tr>\n",
       "    <tr>\n",
       "      <th>2</th>\n",
       "      <td>2010</td>\n",
       "      <td>2013</td>\n",
       "      <td>35-44</td>\n",
       "      <td>832</td>\n",
       "      <td>Parole</td>\n",
       "      <td>White - Non-Hispanic</td>\n",
       "      <td>Male</td>\n",
       "      <td>B Felony</td>\n",
       "      <td>Drug</td>\n",
       "      <td>Trafficking</td>\n",
       "      <td>Yes</td>\n",
       "      <td>Tech</td>\n",
       "      <td>0</td>\n",
       "      <td>0</td>\n",
       "      <td>0</td>\n",
       "      <td>Yes</td>\n",
       "    </tr>\n",
       "    <tr>\n",
       "      <th>3</th>\n",
       "      <td>2010</td>\n",
       "      <td>2013</td>\n",
       "      <td>25-34</td>\n",
       "      <td>0</td>\n",
       "      <td>Parole</td>\n",
       "      <td>White - Non-Hispanic</td>\n",
       "      <td>Male</td>\n",
       "      <td>B Felony</td>\n",
       "      <td>Other</td>\n",
       "      <td>Other Criminal</td>\n",
       "      <td>No</td>\n",
       "      <td>No Recidivism</td>\n",
       "      <td>0</td>\n",
       "      <td>0</td>\n",
       "      <td>0</td>\n",
       "      <td>Yes</td>\n",
       "    </tr>\n",
       "    <tr>\n",
       "      <th>4</th>\n",
       "      <td>2010</td>\n",
       "      <td>2013</td>\n",
       "      <td>35-44</td>\n",
       "      <td>116</td>\n",
       "      <td>Discharged or End of Sentence</td>\n",
       "      <td>Black - Non-Hispanic</td>\n",
       "      <td>Male</td>\n",
       "      <td>D Felony</td>\n",
       "      <td>Violent</td>\n",
       "      <td>Assault</td>\n",
       "      <td>Yes</td>\n",
       "      <td>Tech</td>\n",
       "      <td>0</td>\n",
       "      <td>0</td>\n",
       "      <td>0</td>\n",
       "      <td>No</td>\n",
       "    </tr>\n",
       "    <tr>\n",
       "      <th>...</th>\n",
       "      <td>...</td>\n",
       "      <td>...</td>\n",
       "      <td>...</td>\n",
       "      <td>...</td>\n",
       "      <td>...</td>\n",
       "      <td>...</td>\n",
       "      <td>...</td>\n",
       "      <td>...</td>\n",
       "      <td>...</td>\n",
       "      <td>...</td>\n",
       "      <td>...</td>\n",
       "      <td>...</td>\n",
       "      <td>...</td>\n",
       "      <td>...</td>\n",
       "      <td>...</td>\n",
       "      <td>...</td>\n",
       "    </tr>\n",
       "    <tr>\n",
       "      <th>26015</th>\n",
       "      <td>2015</td>\n",
       "      <td>2018</td>\n",
       "      <td>Under 25</td>\n",
       "      <td>0</td>\n",
       "      <td>Paroled to Detainer - INS</td>\n",
       "      <td>White - Hispanic</td>\n",
       "      <td>Male</td>\n",
       "      <td>C Felony</td>\n",
       "      <td>Violent</td>\n",
       "      <td>Assault</td>\n",
       "      <td>No</td>\n",
       "      <td>No Recidivism</td>\n",
       "      <td>0</td>\n",
       "      <td>0</td>\n",
       "      <td>0</td>\n",
       "      <td>Yes</td>\n",
       "    </tr>\n",
       "    <tr>\n",
       "      <th>26016</th>\n",
       "      <td>2015</td>\n",
       "      <td>2018</td>\n",
       "      <td>35-44</td>\n",
       "      <td>0</td>\n",
       "      <td>Released to Special Sentence</td>\n",
       "      <td>White - Non-Hispanic</td>\n",
       "      <td>Male</td>\n",
       "      <td>C Felony</td>\n",
       "      <td>Violent</td>\n",
       "      <td>Sex</td>\n",
       "      <td>No</td>\n",
       "      <td>No Recidivism</td>\n",
       "      <td>0</td>\n",
       "      <td>0</td>\n",
       "      <td>0</td>\n",
       "      <td>No</td>\n",
       "    </tr>\n",
       "    <tr>\n",
       "      <th>26017</th>\n",
       "      <td>2015</td>\n",
       "      <td>2018</td>\n",
       "      <td>25-34</td>\n",
       "      <td>0</td>\n",
       "      <td>Parole Granted</td>\n",
       "      <td>White - Non-Hispanic</td>\n",
       "      <td>Female</td>\n",
       "      <td>Aggravated Misdemeanor</td>\n",
       "      <td>Public Order</td>\n",
       "      <td>Traffic</td>\n",
       "      <td>No</td>\n",
       "      <td>No Recidivism</td>\n",
       "      <td>0</td>\n",
       "      <td>0</td>\n",
       "      <td>0</td>\n",
       "      <td>No</td>\n",
       "    </tr>\n",
       "    <tr>\n",
       "      <th>26018</th>\n",
       "      <td>2015</td>\n",
       "      <td>2018</td>\n",
       "      <td>25-34</td>\n",
       "      <td>0</td>\n",
       "      <td>Paroled w/Immediate Discharge</td>\n",
       "      <td>White - Non-Hispanic</td>\n",
       "      <td>Male</td>\n",
       "      <td>D Felony</td>\n",
       "      <td>Property</td>\n",
       "      <td>Theft</td>\n",
       "      <td>No</td>\n",
       "      <td>No Recidivism</td>\n",
       "      <td>0</td>\n",
       "      <td>0</td>\n",
       "      <td>0</td>\n",
       "      <td>Yes</td>\n",
       "    </tr>\n",
       "    <tr>\n",
       "      <th>26019</th>\n",
       "      <td>2015</td>\n",
       "      <td>2018</td>\n",
       "      <td>35-44</td>\n",
       "      <td>369</td>\n",
       "      <td>Paroled to Detainer - Out of State</td>\n",
       "      <td>White - Non-Hispanic</td>\n",
       "      <td>Male</td>\n",
       "      <td>D Felony</td>\n",
       "      <td>Violent</td>\n",
       "      <td>Murder/Manslaughter</td>\n",
       "      <td>Yes</td>\n",
       "      <td>Tech</td>\n",
       "      <td>D Felony</td>\n",
       "      <td>Violent</td>\n",
       "      <td>Murder/Manslaughter</td>\n",
       "      <td>Yes</td>\n",
       "    </tr>\n",
       "  </tbody>\n",
       "</table>\n",
       "<p>26020 rows × 16 columns</p>\n",
       "</div>"
      ],
      "text/plain": [
       "       Fiscal Year Released  Recidivism Reporting Year Age At Release  \\\n",
       "0                      2010                       2013          25-34   \n",
       "1                      2010                       2013          25-34   \n",
       "2                      2010                       2013          35-44   \n",
       "3                      2010                       2013          25-34   \n",
       "4                      2010                       2013          35-44   \n",
       "...                     ...                        ...            ...   \n",
       "26015                  2015                       2018       Under 25   \n",
       "26016                  2015                       2018          35-44   \n",
       "26017                  2015                       2018          25-34   \n",
       "26018                  2015                       2018          25-34   \n",
       "26019                  2015                       2018          35-44   \n",
       "\n",
       "       Days to Return                        Release Type  \\\n",
       "0                 433                              Parole   \n",
       "1                 453       Discharged or End of Sentence   \n",
       "2                 832                              Parole   \n",
       "3                   0                              Parole   \n",
       "4                 116       Discharged or End of Sentence   \n",
       "...               ...                                 ...   \n",
       "26015               0           Paroled to Detainer - INS   \n",
       "26016               0        Released to Special Sentence   \n",
       "26017               0                      Parole Granted   \n",
       "26018               0       Paroled w/Immediate Discharge   \n",
       "26019             369  Paroled to Detainer - Out of State   \n",
       "\n",
       "           Race - Ethnicity     Sex  Offense Classification  Offense Type  \\\n",
       "0      Black - Non-Hispanic    Male                C Felony       Violent   \n",
       "1      White - Non-Hispanic    Male                D Felony      Property   \n",
       "2      White - Non-Hispanic    Male                B Felony          Drug   \n",
       "3      White - Non-Hispanic    Male                B Felony         Other   \n",
       "4      Black - Non-Hispanic    Male                D Felony       Violent   \n",
       "...                     ...     ...                     ...           ...   \n",
       "26015      White - Hispanic    Male                C Felony       Violent   \n",
       "26016  White - Non-Hispanic    Male                C Felony       Violent   \n",
       "26017  White - Non-Hispanic  Female  Aggravated Misdemeanor  Public Order   \n",
       "26018  White - Non-Hispanic    Male                D Felony      Property   \n",
       "26019  White - Non-Hispanic    Male                D Felony       Violent   \n",
       "\n",
       "           Offense Subtype Return to Prison Recidivism Type  \\\n",
       "0                  Robbery              Yes             New   \n",
       "1                    Theft              Yes            Tech   \n",
       "2              Trafficking              Yes            Tech   \n",
       "3           Other Criminal               No   No Recidivism   \n",
       "4                  Assault              Yes            Tech   \n",
       "...                    ...              ...             ...   \n",
       "26015              Assault               No   No Recidivism   \n",
       "26016                  Sex               No   No Recidivism   \n",
       "26017              Traffic               No   No Recidivism   \n",
       "26018                Theft               No   No Recidivism   \n",
       "26019  Murder/Manslaughter              Yes            Tech   \n",
       "\n",
       "      New Offense Classification New Offense Type New Offense Sub Type  \\\n",
       "0                       C Felony             Drug          Trafficking   \n",
       "1                              0                0                    0   \n",
       "2                              0                0                    0   \n",
       "3                              0                0                    0   \n",
       "4                              0                0                    0   \n",
       "...                          ...              ...                  ...   \n",
       "26015                          0                0                    0   \n",
       "26016                          0                0                    0   \n",
       "26017                          0                0                    0   \n",
       "26018                          0                0                    0   \n",
       "26019                   D Felony          Violent  Murder/Manslaughter   \n",
       "\n",
       "      Target Population  \n",
       "0                   Yes  \n",
       "1                    No  \n",
       "2                   Yes  \n",
       "3                   Yes  \n",
       "4                    No  \n",
       "...                 ...  \n",
       "26015               Yes  \n",
       "26016                No  \n",
       "26017                No  \n",
       "26018               Yes  \n",
       "26019               Yes  \n",
       "\n",
       "[26020 rows x 16 columns]"
      ]
     },
     "execution_count": 837,
     "metadata": {},
     "output_type": "execute_result"
    }
   ],
   "source": [
    "dataset = pd.read_csv(r\"C:\\Users\\janie\\OneDrive\\Desktop\\3-Year_Recidivism_for_Offenders_Released_from_Prison_in_Iowa.csv\")\n",
    "dataset"
   ]
  },
  {
   "cell_type": "code",
   "execution_count": 838,
   "metadata": {},
   "outputs": [
    {
     "data": {
      "text/plain": [
       "(26020, 16)"
      ]
     },
     "execution_count": 838,
     "metadata": {},
     "output_type": "execute_result"
    }
   ],
   "source": [
    "dataset.shape"
   ]
  },
  {
   "cell_type": "code",
   "execution_count": 839,
   "metadata": {},
   "outputs": [
    {
     "data": {
      "text/plain": [
       "['Fiscal Year Released',\n",
       " 'Recidivism Reporting Year',\n",
       " 'Age At Release',\n",
       " 'Days to Return',\n",
       " 'Release Type',\n",
       " 'Race - Ethnicity',\n",
       " 'Sex',\n",
       " 'Offense Classification',\n",
       " 'Offense Type',\n",
       " 'Offense Subtype',\n",
       " 'Return to Prison',\n",
       " 'Recidivism Type',\n",
       " 'New Offense Classification',\n",
       " 'New Offense Type',\n",
       " 'New Offense Sub Type',\n",
       " 'Target Population']"
      ]
     },
     "execution_count": 839,
     "metadata": {},
     "output_type": "execute_result"
    }
   ],
   "source": [
    "column_names = dataset.columns.values.tolist()\n",
    "column_names"
   ]
  },
  {
   "cell_type": "code",
   "execution_count": 840,
   "metadata": {},
   "outputs": [
    {
     "data": {
      "text/plain": [
       "array([[2010, 2013, 'Parole', ..., 'Drug', 'Trafficking', 'Yes'],\n",
       "       [2010, 2013, 'Discharged or End of Sentence', ..., '0', '0', 'No'],\n",
       "       [2010, 2013, 'Parole', ..., '0', '0', 'Yes'],\n",
       "       ...,\n",
       "       [2015, 2018, 'Parole Granted', ..., '0', '0', 'No'],\n",
       "       [2015, 2018, 'Paroled w/Immediate Discharge', ..., '0', '0',\n",
       "        'Yes'],\n",
       "       [2015, 2018, 'Paroled to Detainer - Out of State', ..., 'Violent',\n",
       "        'Murder/Manslaughter', 'Yes']], dtype=object)"
      ]
     },
     "execution_count": 840,
     "metadata": {},
     "output_type": "execute_result"
    }
   ],
   "source": [
    "x = dataset[['Fiscal Year Released','Recidivism Reporting Year','Release Type',\n",
    "'Race - Ethnicity','Age At Release','Sex','Offense Classification','Offense Type','Offense Subtype',\n",
    "'Return to Prison','Days to Return','Recidivism Type','New Offense Classification','New Offense Type',\n",
    "'New Offense Sub Type','Target Population']].values\n",
    "x"
   ]
  },
  {
   "cell_type": "code",
   "execution_count": 841,
   "metadata": {},
   "outputs": [
    {
     "data": {
      "text/plain": [
       "array([['New'],\n",
       "       ['Tech'],\n",
       "       ['Tech'],\n",
       "       ...,\n",
       "       ['No Recidivism'],\n",
       "       ['No Recidivism'],\n",
       "       ['Tech']], dtype=object)"
      ]
     },
     "execution_count": 841,
     "metadata": {},
     "output_type": "execute_result"
    }
   ],
   "source": [
    "y = dataset[[\"Recidivism Type\"]].values\n",
    "y "
   ]
  },
  {
   "attachments": {},
   "cell_type": "markdown",
   "metadata": {},
   "source": [
    "Find Missing Values"
   ]
  },
  {
   "cell_type": "code",
   "execution_count": 842,
   "metadata": {},
   "outputs": [],
   "source": [
    "from sklearn.impute import SimpleImputer\n",
    "import numpy as np"
   ]
  },
  {
   "cell_type": "code",
   "execution_count": 843,
   "metadata": {},
   "outputs": [],
   "source": [
    "imputer = SimpleImputer(strategy = 'mean')"
   ]
  },
  {
   "cell_type": "code",
   "execution_count": 844,
   "metadata": {},
   "outputs": [
    {
     "data": {
      "text/plain": [
       "array([[2010, 2013, 'Parole', ..., 'Drug', 'Trafficking', 'Yes'],\n",
       "       [2010, 2013, 'Discharged or End of Sentence', ..., '0', '0', 'No'],\n",
       "       [2010, 2013, 'Parole', ..., '0', '0', 'Yes'],\n",
       "       ...,\n",
       "       [2015, 2018, 'Parole Granted', ..., '0', '0', 'No'],\n",
       "       [2015, 2018, 'Paroled w/Immediate Discharge', ..., '0', '0',\n",
       "        'Yes'],\n",
       "       [2015, 2018, 'Paroled to Detainer - Out of State', ..., 'Violent',\n",
       "        'Murder/Manslaughter', 'Yes']], dtype=object)"
      ]
     },
     "execution_count": 844,
     "metadata": {},
     "output_type": "execute_result"
    }
   ],
   "source": [
    "imputer = imputer.fit_transform(x[:,0:2])\n",
    "x"
   ]
  },
  {
   "attachments": {},
   "cell_type": "markdown",
   "metadata": {},
   "source": [
    "Encoding Categorical Data"
   ]
  },
  {
   "cell_type": "code",
   "execution_count": 845,
   "metadata": {},
   "outputs": [],
   "source": [
    "# Manually completed through CSV file"
   ]
  },
  {
   "attachments": {},
   "cell_type": "markdown",
   "metadata": {},
   "source": [
    "Splitting Data into Training/Test"
   ]
  },
  {
   "cell_type": "code",
   "execution_count": 855,
   "metadata": {},
   "outputs": [],
   "source": [
    "from sklearn.model_selection import train_test_split"
   ]
  },
  {
   "cell_type": "code",
   "execution_count": 856,
   "metadata": {},
   "outputs": [],
   "source": [
    "x_train, x_test, y_train, y_test = train_test_split(x, y, test_size = 0.2, random_state = 0)"
   ]
  },
  {
   "cell_type": "code",
   "execution_count": 857,
   "metadata": {},
   "outputs": [
    {
     "data": {
      "text/plain": [
       "array([[2011, 2014, 'Parole', ..., '0', '0', 'No'],\n",
       "       [2013, 2016, 'Discharged - Expiration of Sentence', ...,\n",
       "        'Property', 'Theft', 'No'],\n",
       "       [2015, 2018, 'Discharged - Expiration of Sentence', ..., '0', '0',\n",
       "        'Yes'],\n",
       "       ...,\n",
       "       [2012, 2015, 'Parole', ..., 'Drug', 'Drug Possession', 'Yes'],\n",
       "       [2012, 2015, 'Discharged or End of Sentence', ..., '0', '0', 'No'],\n",
       "       [2010, 2013, 'Parole', ..., '0', '0', 'Yes']], dtype=object)"
      ]
     },
     "execution_count": 857,
     "metadata": {},
     "output_type": "execute_result"
    }
   ],
   "source": [
    "x_train"
   ]
  },
  {
   "cell_type": "code",
   "execution_count": 858,
   "metadata": {},
   "outputs": [
    {
     "data": {
      "text/plain": [
       "array([[2013, 2016, 'Parole Granted', ..., 'Drug', 'Drug Possession',\n",
       "        'Yes'],\n",
       "       [2015, 2018, 'Parole Granted', ..., '0', '0', 'No'],\n",
       "       [2012, 2015, 'Parole', ..., '0', '0', 'Yes'],\n",
       "       ...,\n",
       "       [2013, 2016, 'Discharged - Expiration of Sentence', ..., '0', '0',\n",
       "        'No'],\n",
       "       [2012, 2015, 'Discharged or End of Sentence', ..., 'Violent',\n",
       "        'Robbery', 'No'],\n",
       "       [2015, 2018, 'Parole Granted', ..., '0', '0', 'Yes']], dtype=object)"
      ]
     },
     "execution_count": 858,
     "metadata": {},
     "output_type": "execute_result"
    }
   ],
   "source": [
    "x_test"
   ]
  },
  {
   "cell_type": "code",
   "execution_count": 859,
   "metadata": {},
   "outputs": [
    {
     "data": {
      "text/plain": [
       "array([1, 0, 1, ..., 0, 1, 1])"
      ]
     },
     "execution_count": 859,
     "metadata": {},
     "output_type": "execute_result"
    }
   ],
   "source": [
    "y_train"
   ]
  },
  {
   "cell_type": "code",
   "execution_count": 860,
   "metadata": {},
   "outputs": [
    {
     "data": {
      "text/plain": [
       "array([0, 1, 2, ..., 1, 0, 1])"
      ]
     },
     "execution_count": 860,
     "metadata": {},
     "output_type": "execute_result"
    }
   ],
   "source": [
    "y_test"
   ]
  }
 ],
 "metadata": {
  "kernelspec": {
   "display_name": "base",
   "language": "python",
   "name": "python3"
  },
  "language_info": {
   "codemirror_mode": {
    "name": "ipython",
    "version": 3
   },
   "file_extension": ".py",
   "mimetype": "text/x-python",
   "name": "python",
   "nbconvert_exporter": "python",
   "pygments_lexer": "ipython3",
   "version": "3.9.13"
  },
  "orig_nbformat": 4,
  "vscode": {
   "interpreter": {
    "hash": "efec31058fc0af361728fdbe0d3414fbb9e7e9b665641eabaa3424f1afd43451"
   }
  }
 },
 "nbformat": 4,
 "nbformat_minor": 2
}
