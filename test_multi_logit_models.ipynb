{
 "cells": [
  {
   "attachments": {},
   "cell_type": "markdown",
   "metadata": {},
   "source": [
    "# <b> Test Multi Logit Model 1 <b>"
   ]
  },
  {
   "attachments": {},
   "cell_type": "markdown",
   "metadata": {},
   "source": [
    "## Multinomial Logistic Regression Model using using Age, Race, Sex, and Prior Arrests as Features <b>"
   ]
  },
  {
   "attachments": {},
   "cell_type": "markdown",
   "metadata": {},
   "source": [
    "Load Necessary Libraries"
   ]
  },
  {
   "cell_type": "code",
   "execution_count": 154,
   "metadata": {},
   "outputs": [],
   "source": [
    "import pandas as pd\n",
    "import numpy as np\n",
    "import scipy as scp\n",
    "import sklearn\n",
    "import statsmodels.api as sm\n",
    "import matplotlib.pyplot as plt\n",
    "import seaborn as sns\n",
    "\n",
    "from sklearn.model_selection import train_test_split\n",
    "from sklearn.linear_model import LogisticRegression\n",
    "from sklearn.metrics import classification_report\n",
    "from sklearn import metrics\n",
    "from sklearn.metrics import confusion_matrix"
   ]
  },
  {
   "attachments": {},
   "cell_type": "markdown",
   "metadata": {},
   "source": [
    "Read Dataset"
   ]
  },
  {
   "cell_type": "code",
   "execution_count": 155,
   "metadata": {},
   "outputs": [
    {
     "data": {
      "text/html": [
       "<div>\n",
       "<style scoped>\n",
       "    .dataframe tbody tr th:only-of-type {\n",
       "        vertical-align: middle;\n",
       "    }\n",
       "\n",
       "    .dataframe tbody tr th {\n",
       "        vertical-align: top;\n",
       "    }\n",
       "\n",
       "    .dataframe thead th {\n",
       "        text-align: right;\n",
       "    }\n",
       "</style>\n",
       "<table border=\"1\" class=\"dataframe\">\n",
       "  <thead>\n",
       "    <tr style=\"text-align: right;\">\n",
       "      <th></th>\n",
       "      <th>Supervision_Risk_Score_First</th>\n",
       "      <th>Prison_Offense</th>\n",
       "      <th>Gender</th>\n",
       "      <th>Race</th>\n",
       "      <th>Age_At_Release</th>\n",
       "      <th>Education_Level</th>\n",
       "      <th>Dependents</th>\n",
       "      <th>Prior_Arrest_Episodes_Misd</th>\n",
       "      <th>Prior_Arrest_Episodes_Violent</th>\n",
       "      <th>Prior_Conviction_Episodes_Felony</th>\n",
       "      <th>...</th>\n",
       "      <th>Prior_Conviction_Episodes_Drug</th>\n",
       "      <th>Prior_Arrest_Episodes_GunCharges</th>\n",
       "      <th>Prior_Conviction_Episodes_Viol</th>\n",
       "      <th>Prior_Conviction_Episodes_PPViolationCharges</th>\n",
       "      <th>Prior_Conviction_Episodes_DomesticViolenceCharges</th>\n",
       "      <th>Recidivism_Within_3years</th>\n",
       "      <th>Prior_Arrest_Episodes_Felony</th>\n",
       "      <th>Prior_Arrest_Episodes_Property</th>\n",
       "      <th>Prior_Arrest_Episodes_Drug</th>\n",
       "      <th>Prior_Conviction_Episodes_Prop</th>\n",
       "    </tr>\n",
       "  </thead>\n",
       "  <tbody>\n",
       "    <tr>\n",
       "      <th>0</th>\n",
       "      <td>3.0</td>\n",
       "      <td>0.0</td>\n",
       "      <td>1.0</td>\n",
       "      <td>0.0</td>\n",
       "      <td>5.0</td>\n",
       "      <td>0.0</td>\n",
       "      <td>3.0</td>\n",
       "      <td>6.0</td>\n",
       "      <td>1.0</td>\n",
       "      <td>3.0</td>\n",
       "      <td>...</td>\n",
       "      <td>2.0</td>\n",
       "      <td>0.0</td>\n",
       "      <td>0.0</td>\n",
       "      <td>0.0</td>\n",
       "      <td>0.0</td>\n",
       "      <td>0.0</td>\n",
       "      <td>7.0</td>\n",
       "      <td>3.0</td>\n",
       "      <td>3.0</td>\n",
       "      <td>2.0</td>\n",
       "    </tr>\n",
       "    <tr>\n",
       "      <th>1</th>\n",
       "      <td>6.0</td>\n",
       "      <td>3.0</td>\n",
       "      <td>1.0</td>\n",
       "      <td>0.0</td>\n",
       "      <td>3.0</td>\n",
       "      <td>2.0</td>\n",
       "      <td>1.0</td>\n",
       "      <td>6.0</td>\n",
       "      <td>3.0</td>\n",
       "      <td>3.0</td>\n",
       "      <td>...</td>\n",
       "      <td>2.0</td>\n",
       "      <td>0.0</td>\n",
       "      <td>1.0</td>\n",
       "      <td>1.0</td>\n",
       "      <td>1.0</td>\n",
       "      <td>1.0</td>\n",
       "      <td>8.0</td>\n",
       "      <td>0.0</td>\n",
       "      <td>3.0</td>\n",
       "      <td>0.0</td>\n",
       "    </tr>\n",
       "    <tr>\n",
       "      <th>2</th>\n",
       "      <td>7.0</td>\n",
       "      <td>0.0</td>\n",
       "      <td>1.0</td>\n",
       "      <td>0.0</td>\n",
       "      <td>6.0</td>\n",
       "      <td>0.0</td>\n",
       "      <td>3.0</td>\n",
       "      <td>6.0</td>\n",
       "      <td>3.0</td>\n",
       "      <td>3.0</td>\n",
       "      <td>...</td>\n",
       "      <td>2.0</td>\n",
       "      <td>0.0</td>\n",
       "      <td>1.0</td>\n",
       "      <td>0.0</td>\n",
       "      <td>1.0</td>\n",
       "      <td>1.0</td>\n",
       "      <td>7.0</td>\n",
       "      <td>2.0</td>\n",
       "      <td>2.0</td>\n",
       "      <td>1.0</td>\n",
       "    </tr>\n",
       "    <tr>\n",
       "      <th>3</th>\n",
       "      <td>7.0</td>\n",
       "      <td>2.0</td>\n",
       "      <td>1.0</td>\n",
       "      <td>1.0</td>\n",
       "      <td>4.0</td>\n",
       "      <td>2.0</td>\n",
       "      <td>1.0</td>\n",
       "      <td>6.0</td>\n",
       "      <td>0.0</td>\n",
       "      <td>3.0</td>\n",
       "      <td>...</td>\n",
       "      <td>2.0</td>\n",
       "      <td>0.0</td>\n",
       "      <td>0.0</td>\n",
       "      <td>0.0</td>\n",
       "      <td>0.0</td>\n",
       "      <td>0.0</td>\n",
       "      <td>9.0</td>\n",
       "      <td>3.0</td>\n",
       "      <td>3.0</td>\n",
       "      <td>3.0</td>\n",
       "    </tr>\n",
       "    <tr>\n",
       "      <th>4</th>\n",
       "      <td>4.0</td>\n",
       "      <td>3.0</td>\n",
       "      <td>1.0</td>\n",
       "      <td>1.0</td>\n",
       "      <td>3.0</td>\n",
       "      <td>2.0</td>\n",
       "      <td>3.0</td>\n",
       "      <td>4.0</td>\n",
       "      <td>3.0</td>\n",
       "      <td>1.0</td>\n",
       "      <td>...</td>\n",
       "      <td>1.0</td>\n",
       "      <td>0.0</td>\n",
       "      <td>1.0</td>\n",
       "      <td>0.0</td>\n",
       "      <td>0.0</td>\n",
       "      <td>1.0</td>\n",
       "      <td>5.0</td>\n",
       "      <td>2.0</td>\n",
       "      <td>1.0</td>\n",
       "      <td>0.0</td>\n",
       "    </tr>\n",
       "    <tr>\n",
       "      <th>...</th>\n",
       "      <td>...</td>\n",
       "      <td>...</td>\n",
       "      <td>...</td>\n",
       "      <td>...</td>\n",
       "      <td>...</td>\n",
       "      <td>...</td>\n",
       "      <td>...</td>\n",
       "      <td>...</td>\n",
       "      <td>...</td>\n",
       "      <td>...</td>\n",
       "      <td>...</td>\n",
       "      <td>...</td>\n",
       "      <td>...</td>\n",
       "      <td>...</td>\n",
       "      <td>...</td>\n",
       "      <td>...</td>\n",
       "      <td>...</td>\n",
       "      <td>...</td>\n",
       "      <td>...</td>\n",
       "      <td>...</td>\n",
       "      <td>...</td>\n",
       "    </tr>\n",
       "    <tr>\n",
       "      <th>25830</th>\n",
       "      <td>5.0</td>\n",
       "      <td>5.0</td>\n",
       "      <td>1.0</td>\n",
       "      <td>0.0</td>\n",
       "      <td>1.0</td>\n",
       "      <td>0.0</td>\n",
       "      <td>1.0</td>\n",
       "      <td>2.0</td>\n",
       "      <td>2.0</td>\n",
       "      <td>0.0</td>\n",
       "      <td>...</td>\n",
       "      <td>0.0</td>\n",
       "      <td>0.0</td>\n",
       "      <td>1.0</td>\n",
       "      <td>0.0</td>\n",
       "      <td>1.0</td>\n",
       "      <td>1.0</td>\n",
       "      <td>3.0</td>\n",
       "      <td>0.0</td>\n",
       "      <td>0.0</td>\n",
       "      <td>0.0</td>\n",
       "    </tr>\n",
       "    <tr>\n",
       "      <th>25831</th>\n",
       "      <td>5.0</td>\n",
       "      <td>5.0</td>\n",
       "      <td>1.0</td>\n",
       "      <td>1.0</td>\n",
       "      <td>4.0</td>\n",
       "      <td>0.0</td>\n",
       "      <td>3.0</td>\n",
       "      <td>2.0</td>\n",
       "      <td>0.0</td>\n",
       "      <td>0.0</td>\n",
       "      <td>...</td>\n",
       "      <td>0.0</td>\n",
       "      <td>0.0</td>\n",
       "      <td>0.0</td>\n",
       "      <td>0.0</td>\n",
       "      <td>0.0</td>\n",
       "      <td>1.0</td>\n",
       "      <td>0.0</td>\n",
       "      <td>0.0</td>\n",
       "      <td>0.0</td>\n",
       "      <td>0.0</td>\n",
       "    </tr>\n",
       "    <tr>\n",
       "      <th>25832</th>\n",
       "      <td>5.0</td>\n",
       "      <td>5.0</td>\n",
       "      <td>1.0</td>\n",
       "      <td>0.0</td>\n",
       "      <td>3.0</td>\n",
       "      <td>0.0</td>\n",
       "      <td>3.0</td>\n",
       "      <td>0.0</td>\n",
       "      <td>0.0</td>\n",
       "      <td>0.0</td>\n",
       "      <td>...</td>\n",
       "      <td>0.0</td>\n",
       "      <td>0.0</td>\n",
       "      <td>0.0</td>\n",
       "      <td>0.0</td>\n",
       "      <td>0.0</td>\n",
       "      <td>1.0</td>\n",
       "      <td>0.0</td>\n",
       "      <td>0.0</td>\n",
       "      <td>0.0</td>\n",
       "      <td>0.0</td>\n",
       "    </tr>\n",
       "    <tr>\n",
       "      <th>25833</th>\n",
       "      <td>5.0</td>\n",
       "      <td>5.0</td>\n",
       "      <td>0.0</td>\n",
       "      <td>1.0</td>\n",
       "      <td>3.0</td>\n",
       "      <td>0.0</td>\n",
       "      <td>3.0</td>\n",
       "      <td>0.0</td>\n",
       "      <td>0.0</td>\n",
       "      <td>0.0</td>\n",
       "      <td>...</td>\n",
       "      <td>0.0</td>\n",
       "      <td>0.0</td>\n",
       "      <td>0.0</td>\n",
       "      <td>0.0</td>\n",
       "      <td>0.0</td>\n",
       "      <td>0.0</td>\n",
       "      <td>0.0</td>\n",
       "      <td>0.0</td>\n",
       "      <td>0.0</td>\n",
       "      <td>0.0</td>\n",
       "    </tr>\n",
       "    <tr>\n",
       "      <th>25834</th>\n",
       "      <td>5.0</td>\n",
       "      <td>5.0</td>\n",
       "      <td>1.0</td>\n",
       "      <td>1.0</td>\n",
       "      <td>2.0</td>\n",
       "      <td>1.0</td>\n",
       "      <td>3.0</td>\n",
       "      <td>6.0</td>\n",
       "      <td>0.0</td>\n",
       "      <td>1.0</td>\n",
       "      <td>...</td>\n",
       "      <td>0.0</td>\n",
       "      <td>0.0</td>\n",
       "      <td>0.0</td>\n",
       "      <td>1.0</td>\n",
       "      <td>0.0</td>\n",
       "      <td>1.0</td>\n",
       "      <td>7.0</td>\n",
       "      <td>2.0</td>\n",
       "      <td>1.0</td>\n",
       "      <td>1.0</td>\n",
       "    </tr>\n",
       "  </tbody>\n",
       "</table>\n",
       "<p>25835 rows × 21 columns</p>\n",
       "</div>"
      ],
      "text/plain": [
       "       Supervision_Risk_Score_First  Prison_Offense  Gender  Race  \\\n",
       "0                               3.0             0.0     1.0   0.0   \n",
       "1                               6.0             3.0     1.0   0.0   \n",
       "2                               7.0             0.0     1.0   0.0   \n",
       "3                               7.0             2.0     1.0   1.0   \n",
       "4                               4.0             3.0     1.0   1.0   \n",
       "...                             ...             ...     ...   ...   \n",
       "25830                           5.0             5.0     1.0   0.0   \n",
       "25831                           5.0             5.0     1.0   1.0   \n",
       "25832                           5.0             5.0     1.0   0.0   \n",
       "25833                           5.0             5.0     0.0   1.0   \n",
       "25834                           5.0             5.0     1.0   1.0   \n",
       "\n",
       "       Age_At_Release  Education_Level  Dependents  \\\n",
       "0                 5.0              0.0         3.0   \n",
       "1                 3.0              2.0         1.0   \n",
       "2                 6.0              0.0         3.0   \n",
       "3                 4.0              2.0         1.0   \n",
       "4                 3.0              2.0         3.0   \n",
       "...               ...              ...         ...   \n",
       "25830             1.0              0.0         1.0   \n",
       "25831             4.0              0.0         3.0   \n",
       "25832             3.0              0.0         3.0   \n",
       "25833             3.0              0.0         3.0   \n",
       "25834             2.0              1.0         3.0   \n",
       "\n",
       "       Prior_Arrest_Episodes_Misd  Prior_Arrest_Episodes_Violent  \\\n",
       "0                             6.0                            1.0   \n",
       "1                             6.0                            3.0   \n",
       "2                             6.0                            3.0   \n",
       "3                             6.0                            0.0   \n",
       "4                             4.0                            3.0   \n",
       "...                           ...                            ...   \n",
       "25830                         2.0                            2.0   \n",
       "25831                         2.0                            0.0   \n",
       "25832                         0.0                            0.0   \n",
       "25833                         0.0                            0.0   \n",
       "25834                         6.0                            0.0   \n",
       "\n",
       "       Prior_Conviction_Episodes_Felony  ...  Prior_Conviction_Episodes_Drug  \\\n",
       "0                                   3.0  ...                             2.0   \n",
       "1                                   3.0  ...                             2.0   \n",
       "2                                   3.0  ...                             2.0   \n",
       "3                                   3.0  ...                             2.0   \n",
       "4                                   1.0  ...                             1.0   \n",
       "...                                 ...  ...                             ...   \n",
       "25830                               0.0  ...                             0.0   \n",
       "25831                               0.0  ...                             0.0   \n",
       "25832                               0.0  ...                             0.0   \n",
       "25833                               0.0  ...                             0.0   \n",
       "25834                               1.0  ...                             0.0   \n",
       "\n",
       "       Prior_Arrest_Episodes_GunCharges  Prior_Conviction_Episodes_Viol  \\\n",
       "0                                   0.0                             0.0   \n",
       "1                                   0.0                             1.0   \n",
       "2                                   0.0                             1.0   \n",
       "3                                   0.0                             0.0   \n",
       "4                                   0.0                             1.0   \n",
       "...                                 ...                             ...   \n",
       "25830                               0.0                             1.0   \n",
       "25831                               0.0                             0.0   \n",
       "25832                               0.0                             0.0   \n",
       "25833                               0.0                             0.0   \n",
       "25834                               0.0                             0.0   \n",
       "\n",
       "       Prior_Conviction_Episodes_PPViolationCharges  \\\n",
       "0                                               0.0   \n",
       "1                                               1.0   \n",
       "2                                               0.0   \n",
       "3                                               0.0   \n",
       "4                                               0.0   \n",
       "...                                             ...   \n",
       "25830                                           0.0   \n",
       "25831                                           0.0   \n",
       "25832                                           0.0   \n",
       "25833                                           0.0   \n",
       "25834                                           1.0   \n",
       "\n",
       "       Prior_Conviction_Episodes_DomesticViolenceCharges  \\\n",
       "0                                                    0.0   \n",
       "1                                                    1.0   \n",
       "2                                                    1.0   \n",
       "3                                                    0.0   \n",
       "4                                                    0.0   \n",
       "...                                                  ...   \n",
       "25830                                                1.0   \n",
       "25831                                                0.0   \n",
       "25832                                                0.0   \n",
       "25833                                                0.0   \n",
       "25834                                                0.0   \n",
       "\n",
       "       Recidivism_Within_3years  Prior_Arrest_Episodes_Felony  \\\n",
       "0                           0.0                           7.0   \n",
       "1                           1.0                           8.0   \n",
       "2                           1.0                           7.0   \n",
       "3                           0.0                           9.0   \n",
       "4                           1.0                           5.0   \n",
       "...                         ...                           ...   \n",
       "25830                       1.0                           3.0   \n",
       "25831                       1.0                           0.0   \n",
       "25832                       1.0                           0.0   \n",
       "25833                       0.0                           0.0   \n",
       "25834                       1.0                           7.0   \n",
       "\n",
       "       Prior_Arrest_Episodes_Property  Prior_Arrest_Episodes_Drug  \\\n",
       "0                                 3.0                         3.0   \n",
       "1                                 0.0                         3.0   \n",
       "2                                 2.0                         2.0   \n",
       "3                                 3.0                         3.0   \n",
       "4                                 2.0                         1.0   \n",
       "...                               ...                         ...   \n",
       "25830                             0.0                         0.0   \n",
       "25831                             0.0                         0.0   \n",
       "25832                             0.0                         0.0   \n",
       "25833                             0.0                         0.0   \n",
       "25834                             2.0                         1.0   \n",
       "\n",
       "       Prior_Conviction_Episodes_Prop  \n",
       "0                                 2.0  \n",
       "1                                 0.0  \n",
       "2                                 1.0  \n",
       "3                                 3.0  \n",
       "4                                 0.0  \n",
       "...                               ...  \n",
       "25830                             0.0  \n",
       "25831                             0.0  \n",
       "25832                             0.0  \n",
       "25833                             0.0  \n",
       "25834                             1.0  \n",
       "\n",
       "[25835 rows x 21 columns]"
      ]
     },
     "execution_count": 155,
     "metadata": {},
     "output_type": "execute_result"
    }
   ],
   "source": [
    "# reading dataset using pandas\n",
    "data = pd.read_csv(r'georgia_rec_clean.csv')\n",
    "# print data\n",
    "data"
   ]
  },
  {
   "cell_type": "code",
   "execution_count": 156,
   "metadata": {},
   "outputs": [],
   "source": [
    "x1 = data[['Age_At_Release', 'Race', 'Gender', 'Supervision_Risk_Score_First','Prior_Arrest_Episodes_Violent',\n",
    "           'Prior_Arrest_Episodes_GunCharges', 'Prior_Arrest_Episodes_Felony', 'Prior_Arrest_Episodes_Property',\n",
    "           'Prior_Arrest_Episodes_Drug', 'Prior_Arrest_Episodes_Misd']]\n",
    "y1 = data[['Recidivism_Within_3years']]"
   ]
  },
  {
   "attachments": {},
   "cell_type": "markdown",
   "metadata": {},
   "source": [
    "Spliting the Dataset"
   ]
  },
  {
   "cell_type": "code",
   "execution_count": 157,
   "metadata": {},
   "outputs": [],
   "source": [
    "x_train1, x_test1, y_train1, y_test1 = train_test_split(x1, y1, test_size=0.20, random_state=5)"
   ]
  },
  {
   "cell_type": "code",
   "execution_count": 158,
   "metadata": {},
   "outputs": [
    {
     "name": "stdout",
     "output_type": "stream",
     "text": [
      "(20668, 10)\n",
      "(5167, 10)\n",
      "(20668, 1)\n",
      "(5167, 1)\n"
     ]
    }
   ],
   "source": [
    "print(x_train1.shape)\n",
    "print(x_test1.shape)\n",
    "print(y_train1.shape)\n",
    "print(y_test1.shape)"
   ]
  },
  {
   "cell_type": "code",
   "execution_count": 159,
   "metadata": {},
   "outputs": [],
   "source": [
    "y_train1 = y_train1.values.ravel()"
   ]
  },
  {
   "attachments": {},
   "cell_type": "markdown",
   "metadata": {},
   "source": [
    "Building the Multi Logit Model"
   ]
  },
  {
   "cell_type": "code",
   "execution_count": 160,
   "metadata": {},
   "outputs": [],
   "source": [
    "model1 = LogisticRegression(random_state=5, multi_class='multinomial', penalty='none', solver='newton-cg').fit(x_train1, y_train1)"
   ]
  },
  {
   "cell_type": "code",
   "execution_count": 161,
   "metadata": {},
   "outputs": [],
   "source": [
    "pred1 = model1.predict(x_test1)"
   ]
  },
  {
   "cell_type": "code",
   "execution_count": 162,
   "metadata": {},
   "outputs": [
    {
     "name": "stdout",
     "output_type": "stream",
     "text": [
      "{'C': 1.0, 'class_weight': None, 'dual': False, 'fit_intercept': True, 'intercept_scaling': 1, 'l1_ratio': None, 'max_iter': 100, 'multi_class': 'multinomial', 'n_jobs': None, 'penalty': 'none', 'random_state': 5, 'solver': 'newton-cg', 'tol': 0.0001, 'verbose': 0, 'warm_start': False}\n"
     ]
    }
   ],
   "source": [
    "param = model1.get_params()\n",
    "print(param)"
   ]
  },
  {
   "attachments": {},
   "cell_type": "markdown",
   "metadata": {},
   "source": [
    "Print Model Parameters"
   ]
  },
  {
   "cell_type": "code",
   "execution_count": 163,
   "metadata": {},
   "outputs": [
    {
     "name": "stdout",
     "output_type": "stream",
     "text": [
      "Intercept: \n",
      " [-0.31184351]\n",
      "Coefficients: \n",
      " [[-0.15376289  0.00380416  0.25348239  0.01763949  0.04821537  0.02006951\n",
      "   0.00304216  0.11159115  0.04120205  0.06474131]]\n"
     ]
    }
   ],
   "source": [
    "print('Intercept: \\n', model1.intercept_)\n",
    "print('Coefficients: \\n', model1.coef_)"
   ]
  },
  {
   "attachments": {},
   "cell_type": "markdown",
   "metadata": {},
   "source": [
    "Calculate Odds Ratio Estimates"
   ]
  },
  {
   "cell_type": "code",
   "execution_count": 164,
   "metadata": {},
   "outputs": [
    {
     "data": {
      "text/plain": [
       "array([[0.85747532, 1.00381141, 1.28850469, 1.01779598, 1.04939664,\n",
       "        1.02027225, 1.00304679, 1.11805565, 1.04206263, 1.066883  ]])"
      ]
     },
     "execution_count": 164,
     "metadata": {},
     "output_type": "execute_result"
    }
   ],
   "source": [
    "np.exp(model1.coef_)"
   ]
  },
  {
   "attachments": {},
   "cell_type": "markdown",
   "metadata": {},
   "source": [
    "Statsmodels to Assess Variables"
   ]
  },
  {
   "cell_type": "code",
   "execution_count": 165,
   "metadata": {},
   "outputs": [
    {
     "data": {
      "text/plain": [
       "array([[3., 0., 1., ..., 3., 3., 2.],\n",
       "       [6., 3., 1., ..., 0., 3., 0.],\n",
       "       [7., 0., 1., ..., 2., 2., 1.],\n",
       "       ...,\n",
       "       [5., 5., 1., ..., 0., 0., 0.],\n",
       "       [5., 5., 0., ..., 0., 0., 0.],\n",
       "       [5., 5., 1., ..., 2., 1., 1.]])"
      ]
     },
     "execution_count": 165,
     "metadata": {},
     "output_type": "execute_result"
    }
   ],
   "source": [
    "np.asarray(data)"
   ]
  },
  {
   "cell_type": "code",
   "execution_count": 166,
   "metadata": {},
   "outputs": [],
   "source": [
    "logit_model1 = sm.MNLogit(y_train1, sm.add_constant(x_train1))"
   ]
  },
  {
   "cell_type": "code",
   "execution_count": 167,
   "metadata": {},
   "outputs": [
    {
     "name": "stdout",
     "output_type": "stream",
     "text": [
      "Optimization terminated successfully.\n",
      "         Current function value: 0.616079\n",
      "         Iterations 5\n",
      "                          MNLogit Regression Results                          \n",
      "==============================================================================\n",
      "Dep. Variable:                      y   No. Observations:                20668\n",
      "Model:                        MNLogit   Df Residuals:                    20657\n",
      "Method:                           MLE   Df Model:                           10\n",
      "Date:                Sun, 07 May 2023   Pseudo R-squ.:                 0.09540\n",
      "Time:                        11:40:29   Log-Likelihood:                -12733.\n",
      "converged:                       True   LL-Null:                       -14076.\n",
      "Covariance Type:            nonrobust   LLR p-value:                     0.000\n",
      "====================================================================================================\n",
      "                             y=1       coef    std err          z      P>|z|      [0.025      0.975]\n",
      "----------------------------------------------------------------------------------------------------\n",
      "const                               -0.6237      0.079     -7.922      0.000      -0.778      -0.469\n",
      "Age_At_Release                      -0.3075      0.010    -29.727      0.000      -0.328      -0.287\n",
      "Race                                 0.0076      0.032      0.238      0.812      -0.055       0.070\n",
      "Gender                               0.5070      0.047     10.764      0.000       0.415       0.599\n",
      "Supervision_Risk_Score_First         0.0353      0.007      5.027      0.000       0.022       0.049\n",
      "Prior_Arrest_Episodes_Violent        0.0964      0.016      6.171      0.000       0.066       0.127\n",
      "Prior_Arrest_Episodes_GunCharges     0.0401      0.036      1.129      0.259      -0.030       0.110\n",
      "Prior_Arrest_Episodes_Felony         0.0061      0.006      1.049      0.294      -0.005       0.017\n",
      "Prior_Arrest_Episodes_Property       0.2232      0.010     23.189      0.000       0.204       0.242\n",
      "Prior_Arrest_Episodes_Drug           0.0824      0.010      8.067      0.000       0.062       0.102\n",
      "Prior_Arrest_Episodes_Misd           0.1295      0.009     15.067      0.000       0.113       0.146\n",
      "====================================================================================================\n",
      "                                Results: MNLogit\n",
      "=================================================================================\n",
      "Model:                    MNLogit               Pseudo R-squared:      0.095     \n",
      "Dependent Variable:       y                     AIC:                   25488.2347\n",
      "Date:                     2023-05-07 11:40      BIC:                   25575.5344\n",
      "No. Observations:         20668                 Log-Likelihood:        -12733.   \n",
      "Df Model:                 10                    LL-Null:               -14076.   \n",
      "Df Residuals:             20657                 LLR p-value:           0.0000    \n",
      "Converged:                1.0000                Scale:                 1.0000    \n",
      "No. Iterations:           5.0000                                                 \n",
      "---------------------------------------------------------------------------------\n",
      "             y = 0                Coef.  Std.Err.    t     P>|t|   [0.025  0.975]\n",
      "---------------------------------------------------------------------------------\n",
      "                           const -0.6237   0.0787  -7.9224 0.0000 -0.7780 -0.4694\n",
      "                  Age_At_Release -0.3075   0.0103 -29.7274 0.0000 -0.3278 -0.2873\n",
      "                            Race  0.0076   0.0319   0.2384 0.8116 -0.0549  0.0702\n",
      "                          Gender  0.5070   0.0471  10.7640 0.0000  0.4147  0.5993\n",
      "    Supervision_Risk_Score_First  0.0353   0.0070   5.0265 0.0000  0.0215  0.0490\n",
      "   Prior_Arrest_Episodes_Violent  0.0964   0.0156   6.1713 0.0000  0.0658  0.1271\n",
      "Prior_Arrest_Episodes_GunCharges  0.0401   0.0356   1.1287 0.2590 -0.0296  0.1098\n",
      "    Prior_Arrest_Episodes_Felony  0.0061   0.0058   1.0492 0.2941 -0.0053  0.0174\n",
      "  Prior_Arrest_Episodes_Property  0.2232   0.0096  23.1894 0.0000  0.2043  0.2420\n",
      "      Prior_Arrest_Episodes_Drug  0.0824   0.0102   8.0673 0.0000  0.0624  0.1024\n",
      "      Prior_Arrest_Episodes_Misd  0.1295   0.0086  15.0673 0.0000  0.1126  0.1463\n",
      "=================================================================================\n",
      "\n"
     ]
    }
   ],
   "source": [
    "result = logit_model1.fit()\n",
    "stats1 = result.summary()\n",
    "stats2 = result.summary2()\n",
    "print(stats1)\n",
    "print(stats2)"
   ]
  },
  {
   "cell_type": "code",
   "execution_count": 168,
   "metadata": {},
   "outputs": [
    {
     "name": "stdout",
     "output_type": "stream",
     "text": [
      "              precision    recall  f1-score   support\n",
      "\n",
      "         0.0       0.65      0.43      0.52      2201\n",
      "         1.0       0.66      0.82      0.73      2966\n",
      "\n",
      "    accuracy                           0.66      5167\n",
      "   macro avg       0.65      0.63      0.63      5167\n",
      "weighted avg       0.66      0.66      0.64      5167\n",
      "\n"
     ]
    }
   ],
   "source": [
    "class_report = classification_report(y_test1, pred1)\n",
    "print(class_report)"
   ]
  },
  {
   "attachments": {},
   "cell_type": "markdown",
   "metadata": {},
   "source": [
    "Overfitting vs Underfitting"
   ]
  },
  {
   "cell_type": "code",
   "execution_count": 169,
   "metadata": {},
   "outputs": [
    {
     "name": "stdout",
     "output_type": "stream",
     "text": [
      "Training set score: 0.6644\n",
      "Test set score: 0.6576\n"
     ]
    }
   ],
   "source": [
    "print(\"Training set score: {:.4f}\".format(model1.score(x_train1, y_train1)))\n",
    "print(\"Test set score: {:.4f}\".format(model1.score(x_test1, y_test1)))"
   ]
  },
  {
   "attachments": {},
   "cell_type": "markdown",
   "metadata": {},
   "source": [
    "Metrics Analysis"
   ]
  },
  {
   "cell_type": "code",
   "execution_count": 170,
   "metadata": {},
   "outputs": [],
   "source": [
    "y_pred1 = model1.predict(x_test1)"
   ]
  },
  {
   "cell_type": "code",
   "execution_count": 171,
   "metadata": {},
   "outputs": [
    {
     "name": "stdout",
     "output_type": "stream",
     "text": [
      "[[ 954 1247]\n",
      " [ 522 2444]]\n"
     ]
    }
   ],
   "source": [
    "cm1 = confusion_matrix(y_test1, y_pred1)\n",
    "print(cm1)"
   ]
  },
  {
   "attachments": {},
   "cell_type": "markdown",
   "metadata": {},
   "source": [
    "# <b> Test Multi Logit Model 2 <b>"
   ]
  },
  {
   "attachments": {},
   "cell_type": "markdown",
   "metadata": {},
   "source": [
    "### <b> Multi Logit Model using using Age, Sex, and Prior Convictions as Features <b>"
   ]
  },
  {
   "cell_type": "markdown",
   "metadata": {},
   "source": [
    "Feature Selection"
   ]
  },
  {
   "cell_type": "code",
   "execution_count": 172,
   "metadata": {},
   "outputs": [],
   "source": [
    "x2 = data[['Age_At_Release', 'Gender', 'Prison_Offense', 'Prior_Conviction_Episodes_Felony', \n",
    "      'Prior_Conviction_Episodes_Misd', 'Prior_Conviction_Episodes_Drug', 'Prior_Conviction_Episodes_PPViolationCharges',\n",
    "      'Prior_Conviction_Episodes_DomesticViolenceCharges', 'Prior_Conviction_Episodes_Prop']]\n",
    "y2 = data[['Recidivism_Within_3years']]"
   ]
  },
  {
   "attachments": {},
   "cell_type": "markdown",
   "metadata": {},
   "source": [
    "Splitting Dataset"
   ]
  },
  {
   "cell_type": "code",
   "execution_count": 173,
   "metadata": {},
   "outputs": [],
   "source": [
    "x_train2, x_test2, y_train2, y_test2 = train_test_split(x2, y2, test_size=0.20, random_state=5)"
   ]
  },
  {
   "cell_type": "code",
   "execution_count": 174,
   "metadata": {},
   "outputs": [
    {
     "name": "stdout",
     "output_type": "stream",
     "text": [
      "(20668, 9)\n",
      "(5167, 9)\n",
      "(20668, 1)\n",
      "(5167, 1)\n"
     ]
    }
   ],
   "source": [
    "print(x_train2.shape)\n",
    "print(x_test2.shape)\n",
    "print(y_train2.shape)\n",
    "print(y_test2.shape)"
   ]
  },
  {
   "cell_type": "code",
   "execution_count": 175,
   "metadata": {},
   "outputs": [],
   "source": [
    "y_train2 = y_train2.values.ravel()"
   ]
  },
  {
   "attachments": {},
   "cell_type": "markdown",
   "metadata": {},
   "source": [
    "Predict Classification"
   ]
  },
  {
   "cell_type": "code",
   "execution_count": 176,
   "metadata": {},
   "outputs": [],
   "source": [
    "model2 = LogisticRegression(random_state=5, multi_class='multinomial', penalty='none', solver='newton-cg').fit(x_train2, y_train2)"
   ]
  },
  {
   "cell_type": "code",
   "execution_count": 177,
   "metadata": {},
   "outputs": [],
   "source": [
    "pred2 = model2.predict(x_test2)"
   ]
  },
  {
   "cell_type": "code",
   "execution_count": 178,
   "metadata": {},
   "outputs": [
    {
     "name": "stdout",
     "output_type": "stream",
     "text": [
      "{'C': 1.0, 'class_weight': None, 'dual': False, 'fit_intercept': True, 'intercept_scaling': 1, 'l1_ratio': None, 'max_iter': 100, 'multi_class': 'multinomial', 'n_jobs': None, 'penalty': 'none', 'random_state': 5, 'solver': 'newton-cg', 'tol': 0.0001, 'verbose': 0, 'warm_start': False}\n"
     ]
    }
   ],
   "source": [
    "param2 = model2.get_params()\n",
    "print(param2)"
   ]
  },
  {
   "attachments": {},
   "cell_type": "markdown",
   "metadata": {},
   "source": [
    "Print Model Parameters"
   ]
  },
  {
   "cell_type": "code",
   "execution_count": 179,
   "metadata": {},
   "outputs": [
    {
     "name": "stdout",
     "output_type": "stream",
     "text": [
      "Intercept: \n",
      " [-0.02458632]\n",
      "Coefficients: \n",
      " [[-0.16183878  0.25627883 -0.00636164  0.07343565  0.0988418   0.03659797\n",
      "   0.00844213  0.06971304  0.13002693]]\n"
     ]
    }
   ],
   "source": [
    "print('Intercept: \\n', model2.intercept_)\n",
    "print('Coefficients: \\n', model2.coef_)"
   ]
  },
  {
   "attachments": {},
   "cell_type": "markdown",
   "metadata": {},
   "source": [
    "Calculate Odds Ratio Estimates"
   ]
  },
  {
   "cell_type": "code",
   "execution_count": 180,
   "metadata": {},
   "outputs": [
    {
     "data": {
      "text/plain": [
       "array([[0.85057832, 1.29211296, 0.99365856, 1.07619928, 1.10389165,\n",
       "        1.03727593, 1.00847786, 1.07220046, 1.13885905]])"
      ]
     },
     "execution_count": 180,
     "metadata": {},
     "output_type": "execute_result"
    }
   ],
   "source": [
    "np.exp(model2.coef_)"
   ]
  },
  {
   "attachments": {},
   "cell_type": "markdown",
   "metadata": {},
   "source": [
    "Statsmodels to Assess Variables"
   ]
  },
  {
   "cell_type": "code",
   "execution_count": 181,
   "metadata": {},
   "outputs": [
    {
     "data": {
      "text/plain": [
       "array([[3., 0., 1., ..., 3., 3., 2.],\n",
       "       [6., 3., 1., ..., 0., 3., 0.],\n",
       "       [7., 0., 1., ..., 2., 2., 1.],\n",
       "       ...,\n",
       "       [5., 5., 1., ..., 0., 0., 0.],\n",
       "       [5., 5., 0., ..., 0., 0., 0.],\n",
       "       [5., 5., 1., ..., 2., 1., 1.]])"
      ]
     },
     "execution_count": 181,
     "metadata": {},
     "output_type": "execute_result"
    }
   ],
   "source": [
    "np.asarray(data)"
   ]
  },
  {
   "cell_type": "code",
   "execution_count": 182,
   "metadata": {},
   "outputs": [],
   "source": [
    "logit_model2 = sm.MNLogit(y_train2, sm.add_constant(x_train2))"
   ]
  },
  {
   "cell_type": "code",
   "execution_count": 183,
   "metadata": {},
   "outputs": [
    {
     "name": "stdout",
     "output_type": "stream",
     "text": [
      "Optimization terminated successfully.\n",
      "         Current function value: 0.622355\n",
      "         Iterations 5\n",
      "                          MNLogit Regression Results                          \n",
      "==============================================================================\n",
      "Dep. Variable:                      y   No. Observations:                20668\n",
      "Model:                        MNLogit   Df Residuals:                    20658\n",
      "Method:                           MLE   Df Model:                            9\n",
      "Date:                Sun, 07 May 2023   Pseudo R-squ.:                 0.08619\n",
      "Time:                        11:40:31   Log-Likelihood:                -12863.\n",
      "converged:                       True   LL-Null:                       -14076.\n",
      "Covariance Type:            nonrobust   LLR p-value:                     0.000\n",
      "=====================================================================================================================\n",
      "                                              y=1       coef    std err          z      P>|z|      [0.025      0.975]\n",
      "---------------------------------------------------------------------------------------------------------------------\n",
      "const                                                -0.0492      0.056     -0.884      0.377      -0.158       0.060\n",
      "Age_At_Release                                       -0.3237      0.009    -35.336      0.000      -0.342      -0.306\n",
      "Gender                                                0.5126      0.046     11.186      0.000       0.423       0.602\n",
      "Prison_Offense                                       -0.0127      0.010     -1.280      0.201      -0.032       0.007\n",
      "Prior_Conviction_Episodes_Felony                      0.1469      0.018      7.951      0.000       0.111       0.183\n",
      "Prior_Conviction_Episodes_Misd                        0.1977      0.013     15.419      0.000       0.173       0.223\n",
      "Prior_Conviction_Episodes_Drug                        0.0732      0.021      3.427      0.001       0.031       0.115\n",
      "Prior_Conviction_Episodes_PPViolationCharges          0.0169      0.039      0.433      0.665      -0.060       0.093\n",
      "Prior_Conviction_Episodes_DomesticViolenceCharges     0.1394      0.058      2.389      0.017       0.025       0.254\n",
      "Prior_Conviction_Episodes_Prop                        0.2601      0.017     15.537      0.000       0.227       0.293\n",
      "=====================================================================================================================\n",
      "                                         Results: MNLogit\n",
      "==================================================================================================\n",
      "Model:                         MNLogit                     Pseudo R-squared:            0.086     \n",
      "Dependent Variable:            y                           AIC:                         25745.6836\n",
      "Date:                          2023-05-07 11:40            BIC:                         25825.0471\n",
      "No. Observations:              20668                       Log-Likelihood:              -12863.   \n",
      "Df Model:                      9                           LL-Null:                     -14076.   \n",
      "Df Residuals:                  20658                       LLR p-value:                 0.0000    \n",
      "Converged:                     1.0000                      Scale:                       1.0000    \n",
      "No. Iterations:                5.0000                                                             \n",
      "--------------------------------------------------------------------------------------------------\n",
      "                      y = 0                        Coef.  Std.Err.    t     P>|t|   [0.025  0.975]\n",
      "--------------------------------------------------------------------------------------------------\n",
      "                                            const -0.0492   0.0556  -0.8837 0.3769 -0.1582  0.0599\n",
      "                                   Age_At_Release -0.3237   0.0092 -35.3356 0.0000 -0.3416 -0.3057\n",
      "                                           Gender  0.5126   0.0458  11.1856 0.0000  0.4227  0.6024\n",
      "                                   Prison_Offense -0.0127   0.0099  -1.2796 0.2007 -0.0322  0.0068\n",
      "                 Prior_Conviction_Episodes_Felony  0.1469   0.0185   7.9510 0.0000  0.1107  0.1831\n",
      "                   Prior_Conviction_Episodes_Misd  0.1977   0.0128  15.4195 0.0000  0.1726  0.2228\n",
      "                   Prior_Conviction_Episodes_Drug  0.0732   0.0214   3.4274 0.0006  0.0313  0.1151\n",
      "     Prior_Conviction_Episodes_PPViolationCharges  0.0169   0.0390   0.4326 0.6653 -0.0596  0.0934\n",
      "Prior_Conviction_Episodes_DomesticViolenceCharges  0.1394   0.0584   2.3888 0.0169  0.0250  0.2538\n",
      "                   Prior_Conviction_Episodes_Prop  0.2601   0.0167  15.5375 0.0000  0.2272  0.2929\n",
      "==================================================================================================\n",
      "\n"
     ]
    }
   ],
   "source": [
    "result2 = logit_model2.fit()\n",
    "stats1 = result2.summary()\n",
    "stats2 = result2.summary2()\n",
    "print(stats1)\n",
    "print(stats2)"
   ]
  },
  {
   "attachments": {},
   "cell_type": "markdown",
   "metadata": {},
   "source": [
    "Overfitting vs Underfitting"
   ]
  },
  {
   "cell_type": "code",
   "execution_count": 184,
   "metadata": {},
   "outputs": [
    {
     "name": "stdout",
     "output_type": "stream",
     "text": [
      "Training set score: 0.6583\n",
      "Test set score: 0.6542\n"
     ]
    }
   ],
   "source": [
    "print(\"Training set score: {:.4f}\".format(model2.score(x_train2, y_train2)))\n",
    "print(\"Test set score: {:.4f}\".format(model2.score(x_test2, y_test2)))"
   ]
  },
  {
   "attachments": {},
   "cell_type": "markdown",
   "metadata": {},
   "source": [
    "Metrics Analysis"
   ]
  },
  {
   "cell_type": "code",
   "execution_count": 185,
   "metadata": {},
   "outputs": [],
   "source": [
    "from sklearn.metrics import classification_report\n",
    "y_pred2 = model2.predict(x_test2)"
   ]
  },
  {
   "cell_type": "code",
   "execution_count": 186,
   "metadata": {},
   "outputs": [
    {
     "name": "stdout",
     "output_type": "stream",
     "text": [
      "              precision    recall  f1-score   support\n",
      "\n",
      "         0.0       0.65      0.41      0.50      2201\n",
      "         1.0       0.66      0.83      0.73      2966\n",
      "\n",
      "    accuracy                           0.65      5167\n",
      "   macro avg       0.65      0.62      0.62      5167\n",
      "weighted avg       0.65      0.65      0.64      5167\n",
      "\n"
     ]
    }
   ],
   "source": [
    "report2 = classification_report(y_test2, y_pred2)\n",
    "print(report2)"
   ]
  }
 ],
 "metadata": {
  "kernelspec": {
   "display_name": "base",
   "language": "python",
   "name": "python3"
  },
  "language_info": {
   "codemirror_mode": {
    "name": "ipython",
    "version": 3
   },
   "file_extension": ".py",
   "mimetype": "text/x-python",
   "name": "python",
   "nbconvert_exporter": "python",
   "pygments_lexer": "ipython3",
   "version": "3.9.13"
  },
  "orig_nbformat": 4
 },
 "nbformat": 4,
 "nbformat_minor": 2
}
