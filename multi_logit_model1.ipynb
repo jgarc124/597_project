{
 "cells": [
  {
   "attachments": {},
   "cell_type": "markdown",
   "metadata": {},
   "source": [
    "### <b> Multinomial Logistic Regression Model using Age, Race, Sex, and Offense Types as Features <b>"
   ]
  },
  {
   "attachments": {},
   "cell_type": "markdown",
   "metadata": {},
   "source": [
    "Load Necessary Libraries"
   ]
  },
  {
   "cell_type": "code",
   "execution_count": 235,
   "metadata": {},
   "outputs": [],
   "source": [
    "import pandas as pd\n",
    "import numpy as np\n",
    "import scipy as scp\n",
    "import sklearn\n",
    "import statsmodels.api as sm\n",
    "import matplotlib.pyplot as plt\n",
    "import seaborn as sns\n",
    "\n",
    "from sklearn.model_selection import train_test_split\n",
    "from sklearn.linear_model import LogisticRegression\n",
    "from sklearn.metrics import classification_report\n",
    "from sklearn import metrics\n",
    "from sklearn.metrics import confusion_matrix"
   ]
  },
  {
   "attachments": {},
   "cell_type": "markdown",
   "metadata": {},
   "source": [
    "Read Dataset"
   ]
  },
  {
   "cell_type": "code",
   "execution_count": 236,
   "metadata": {},
   "outputs": [
    {
     "data": {
      "text/html": [
       "<div>\n",
       "<style scoped>\n",
       "    .dataframe tbody tr th:only-of-type {\n",
       "        vertical-align: middle;\n",
       "    }\n",
       "\n",
       "    .dataframe tbody tr th {\n",
       "        vertical-align: top;\n",
       "    }\n",
       "\n",
       "    .dataframe thead th {\n",
       "        text-align: right;\n",
       "    }\n",
       "</style>\n",
       "<table border=\"1\" class=\"dataframe\">\n",
       "  <thead>\n",
       "    <tr style=\"text-align: right;\">\n",
       "      <th></th>\n",
       "      <th>Fiscal_Year_Released</th>\n",
       "      <th>Recidivism_Reporting_Year</th>\n",
       "      <th>Age_At_Release</th>\n",
       "      <th>Days_To_Return</th>\n",
       "      <th>Release_Type</th>\n",
       "      <th>Race_Ethnicity</th>\n",
       "      <th>Sex</th>\n",
       "      <th>Offense_Classification</th>\n",
       "      <th>Offense_Type</th>\n",
       "      <th>Offense_Subtype</th>\n",
       "      <th>Return_To_Prison</th>\n",
       "      <th>Recidivism_Type</th>\n",
       "      <th>New_Offense_Classification</th>\n",
       "      <th>New_Offense_Type</th>\n",
       "      <th>New_Offense_Subtype</th>\n",
       "    </tr>\n",
       "  </thead>\n",
       "  <tbody>\n",
       "    <tr>\n",
       "      <th>0</th>\n",
       "      <td>2010</td>\n",
       "      <td>2013</td>\n",
       "      <td>2.0</td>\n",
       "      <td>433</td>\n",
       "      <td>4</td>\n",
       "      <td>7</td>\n",
       "      <td>2</td>\n",
       "      <td>5</td>\n",
       "      <td>5</td>\n",
       "      <td>18</td>\n",
       "      <td>2</td>\n",
       "      <td>1</td>\n",
       "      <td>5</td>\n",
       "      <td>1</td>\n",
       "      <td>25</td>\n",
       "    </tr>\n",
       "    <tr>\n",
       "      <th>1</th>\n",
       "      <td>2010</td>\n",
       "      <td>2013</td>\n",
       "      <td>2.0</td>\n",
       "      <td>453</td>\n",
       "      <td>2</td>\n",
       "      <td>10</td>\n",
       "      <td>2</td>\n",
       "      <td>6</td>\n",
       "      <td>3</td>\n",
       "      <td>23</td>\n",
       "      <td>2</td>\n",
       "      <td>3</td>\n",
       "      <td>0</td>\n",
       "      <td>0</td>\n",
       "      <td>0</td>\n",
       "    </tr>\n",
       "    <tr>\n",
       "      <th>2</th>\n",
       "      <td>2010</td>\n",
       "      <td>2013</td>\n",
       "      <td>3.0</td>\n",
       "      <td>832</td>\n",
       "      <td>4</td>\n",
       "      <td>10</td>\n",
       "      <td>2</td>\n",
       "      <td>4</td>\n",
       "      <td>1</td>\n",
       "      <td>25</td>\n",
       "      <td>2</td>\n",
       "      <td>3</td>\n",
       "      <td>0</td>\n",
       "      <td>0</td>\n",
       "      <td>0</td>\n",
       "    </tr>\n",
       "    <tr>\n",
       "      <th>3</th>\n",
       "      <td>2010</td>\n",
       "      <td>2013</td>\n",
       "      <td>2.0</td>\n",
       "      <td>0</td>\n",
       "      <td>4</td>\n",
       "      <td>10</td>\n",
       "      <td>2</td>\n",
       "      <td>4</td>\n",
       "      <td>2</td>\n",
       "      <td>12</td>\n",
       "      <td>1</td>\n",
       "      <td>2</td>\n",
       "      <td>0</td>\n",
       "      <td>0</td>\n",
       "      <td>0</td>\n",
       "    </tr>\n",
       "    <tr>\n",
       "      <th>4</th>\n",
       "      <td>2010</td>\n",
       "      <td>2013</td>\n",
       "      <td>3.0</td>\n",
       "      <td>116</td>\n",
       "      <td>2</td>\n",
       "      <td>7</td>\n",
       "      <td>2</td>\n",
       "      <td>6</td>\n",
       "      <td>5</td>\n",
       "      <td>1</td>\n",
       "      <td>2</td>\n",
       "      <td>3</td>\n",
       "      <td>0</td>\n",
       "      <td>0</td>\n",
       "      <td>0</td>\n",
       "    </tr>\n",
       "    <tr>\n",
       "      <th>...</th>\n",
       "      <td>...</td>\n",
       "      <td>...</td>\n",
       "      <td>...</td>\n",
       "      <td>...</td>\n",
       "      <td>...</td>\n",
       "      <td>...</td>\n",
       "      <td>...</td>\n",
       "      <td>...</td>\n",
       "      <td>...</td>\n",
       "      <td>...</td>\n",
       "      <td>...</td>\n",
       "      <td>...</td>\n",
       "      <td>...</td>\n",
       "      <td>...</td>\n",
       "      <td>...</td>\n",
       "    </tr>\n",
       "    <tr>\n",
       "      <th>26015</th>\n",
       "      <td>2015</td>\n",
       "      <td>2018</td>\n",
       "      <td>1.0</td>\n",
       "      <td>0</td>\n",
       "      <td>6</td>\n",
       "      <td>9</td>\n",
       "      <td>2</td>\n",
       "      <td>5</td>\n",
       "      <td>5</td>\n",
       "      <td>1</td>\n",
       "      <td>1</td>\n",
       "      <td>2</td>\n",
       "      <td>0</td>\n",
       "      <td>0</td>\n",
       "      <td>0</td>\n",
       "    </tr>\n",
       "    <tr>\n",
       "      <th>26016</th>\n",
       "      <td>2015</td>\n",
       "      <td>2018</td>\n",
       "      <td>3.0</td>\n",
       "      <td>0</td>\n",
       "      <td>11</td>\n",
       "      <td>10</td>\n",
       "      <td>2</td>\n",
       "      <td>5</td>\n",
       "      <td>5</td>\n",
       "      <td>19</td>\n",
       "      <td>1</td>\n",
       "      <td>2</td>\n",
       "      <td>0</td>\n",
       "      <td>0</td>\n",
       "      <td>0</td>\n",
       "    </tr>\n",
       "    <tr>\n",
       "      <th>26017</th>\n",
       "      <td>2015</td>\n",
       "      <td>2018</td>\n",
       "      <td>2.0</td>\n",
       "      <td>0</td>\n",
       "      <td>5</td>\n",
       "      <td>10</td>\n",
       "      <td>1</td>\n",
       "      <td>3</td>\n",
       "      <td>4</td>\n",
       "      <td>24</td>\n",
       "      <td>1</td>\n",
       "      <td>2</td>\n",
       "      <td>0</td>\n",
       "      <td>0</td>\n",
       "      <td>0</td>\n",
       "    </tr>\n",
       "    <tr>\n",
       "      <th>26018</th>\n",
       "      <td>2015</td>\n",
       "      <td>2018</td>\n",
       "      <td>2.0</td>\n",
       "      <td>0</td>\n",
       "      <td>10</td>\n",
       "      <td>10</td>\n",
       "      <td>2</td>\n",
       "      <td>6</td>\n",
       "      <td>3</td>\n",
       "      <td>23</td>\n",
       "      <td>1</td>\n",
       "      <td>2</td>\n",
       "      <td>0</td>\n",
       "      <td>0</td>\n",
       "      <td>0</td>\n",
       "    </tr>\n",
       "    <tr>\n",
       "      <th>26019</th>\n",
       "      <td>2015</td>\n",
       "      <td>2018</td>\n",
       "      <td>3.0</td>\n",
       "      <td>369</td>\n",
       "      <td>8</td>\n",
       "      <td>10</td>\n",
       "      <td>2</td>\n",
       "      <td>6</td>\n",
       "      <td>5</td>\n",
       "      <td>11</td>\n",
       "      <td>2</td>\n",
       "      <td>3</td>\n",
       "      <td>6</td>\n",
       "      <td>5</td>\n",
       "      <td>11</td>\n",
       "    </tr>\n",
       "  </tbody>\n",
       "</table>\n",
       "<p>26020 rows × 15 columns</p>\n",
       "</div>"
      ],
      "text/plain": [
       "       Fiscal_Year_Released  Recidivism_Reporting_Year  Age_At_Release  \\\n",
       "0                      2010                       2013             2.0   \n",
       "1                      2010                       2013             2.0   \n",
       "2                      2010                       2013             3.0   \n",
       "3                      2010                       2013             2.0   \n",
       "4                      2010                       2013             3.0   \n",
       "...                     ...                        ...             ...   \n",
       "26015                  2015                       2018             1.0   \n",
       "26016                  2015                       2018             3.0   \n",
       "26017                  2015                       2018             2.0   \n",
       "26018                  2015                       2018             2.0   \n",
       "26019                  2015                       2018             3.0   \n",
       "\n",
       "       Days_To_Return  Release_Type  Race_Ethnicity  Sex  \\\n",
       "0                 433             4               7    2   \n",
       "1                 453             2              10    2   \n",
       "2                 832             4              10    2   \n",
       "3                   0             4              10    2   \n",
       "4                 116             2               7    2   \n",
       "...               ...           ...             ...  ...   \n",
       "26015               0             6               9    2   \n",
       "26016               0            11              10    2   \n",
       "26017               0             5              10    1   \n",
       "26018               0            10              10    2   \n",
       "26019             369             8              10    2   \n",
       "\n",
       "       Offense_Classification  Offense_Type  Offense_Subtype  \\\n",
       "0                           5             5               18   \n",
       "1                           6             3               23   \n",
       "2                           4             1               25   \n",
       "3                           4             2               12   \n",
       "4                           6             5                1   \n",
       "...                       ...           ...              ...   \n",
       "26015                       5             5                1   \n",
       "26016                       5             5               19   \n",
       "26017                       3             4               24   \n",
       "26018                       6             3               23   \n",
       "26019                       6             5               11   \n",
       "\n",
       "       Return_To_Prison  Recidivism_Type  New_Offense_Classification  \\\n",
       "0                     2                1                           5   \n",
       "1                     2                3                           0   \n",
       "2                     2                3                           0   \n",
       "3                     1                2                           0   \n",
       "4                     2                3                           0   \n",
       "...                 ...              ...                         ...   \n",
       "26015                 1                2                           0   \n",
       "26016                 1                2                           0   \n",
       "26017                 1                2                           0   \n",
       "26018                 1                2                           0   \n",
       "26019                 2                3                           6   \n",
       "\n",
       "       New_Offense_Type  New_Offense_Subtype  \n",
       "0                     1                   25  \n",
       "1                     0                    0  \n",
       "2                     0                    0  \n",
       "3                     0                    0  \n",
       "4                     0                    0  \n",
       "...                 ...                  ...  \n",
       "26015                 0                    0  \n",
       "26016                 0                    0  \n",
       "26017                 0                    0  \n",
       "26018                 0                    0  \n",
       "26019                 5                   11  \n",
       "\n",
       "[26020 rows x 15 columns]"
      ]
     },
     "execution_count": 236,
     "metadata": {},
     "output_type": "execute_result"
    }
   ],
   "source": [
    "data = pd.read_csv(\n",
    "    r'C:\\Users\\janie\\OneDrive\\Desktop\\3-Year_Recidivism_for_Offenders_Released_from_Prison_in_Iowa_CLEAN.csv')\n",
    "data"
   ]
  },
  {
   "cell_type": "code",
   "execution_count": 237,
   "metadata": {},
   "outputs": [],
   "source": [
    "data = data.astype(float)"
   ]
  },
  {
   "cell_type": "code",
   "execution_count": 238,
   "metadata": {},
   "outputs": [],
   "source": [
    "data.drop(['Fiscal_Year_Released', 'Recidivism_Reporting_Year'], axis=1, inplace=True)"
   ]
  },
  {
   "cell_type": "code",
   "execution_count": 239,
   "metadata": {},
   "outputs": [
    {
     "name": "stdout",
     "output_type": "stream",
     "text": [
      "2.0    9554\n",
      "3.0    6223\n",
      "1.0    4590\n",
      "4.0    4347\n",
      "5.0    1303\n",
      "Name: Age_At_Release, dtype: int64\n"
     ]
    }
   ],
   "source": [
    "data_age = data['Age_At_Release'].value_counts()\n",
    "print(data_age)"
   ]
  },
  {
   "cell_type": "code",
   "execution_count": 240,
   "metadata": {},
   "outputs": [
    {
     "name": "stdout",
     "output_type": "stream",
     "text": [
      "10.0    17584\n",
      "7.0      6109\n",
      "9.0      1522\n",
      "2.0       502\n",
      "4.0       192\n",
      "6.0        37\n",
      "0.0        35\n",
      "1.0        20\n",
      "8.0        12\n",
      "3.0         5\n",
      "5.0         2\n",
      "Name: Race_Ethnicity, dtype: int64\n"
     ]
    }
   ],
   "source": [
    "data_race = data['Race_Ethnicity'].value_counts()\n",
    "print(data_race)"
   ]
  },
  {
   "cell_type": "code",
   "execution_count": 241,
   "metadata": {},
   "outputs": [
    {
     "name": "stdout",
     "output_type": "stream",
     "text": [
      "2.0    22678\n",
      "1.0     3339\n",
      "0.0        3\n",
      "Name: Sex, dtype: int64\n"
     ]
    }
   ],
   "source": [
    "data_sex = data['Sex'].value_counts()\n",
    "print(data_sex)"
   ]
  },
  {
   "attachments": {},
   "cell_type": "markdown",
   "metadata": {},
   "source": [
    "Remove Null"
   ]
  },
  {
   "cell_type": "code",
   "execution_count": 242,
   "metadata": {},
   "outputs": [
    {
     "data": {
      "text/plain": [
       "<AxesSubplot:>"
      ]
     },
     "execution_count": 242,
     "metadata": {},
     "output_type": "execute_result"
    },
    {
     "data": {
      "image/png": "[encoded data removed]",
      "text/plain": [
       "<Figure size 640x480 with 1 Axes>"
      ]
     },
     "metadata": {},
     "output_type": "display_data"
    }
   ],
   "source": [
    "sns.heatmap(data.isnull(), cbar=False)"
   ]
  },
  {
   "cell_type": "code",
   "execution_count": 243,
   "metadata": {},
   "outputs": [],
   "source": [
    "data['Age_At_Release'] = data['Age_At_Release'].fillna('0')"
   ]
  },
  {
   "cell_type": "code",
   "execution_count": 244,
   "metadata": {},
   "outputs": [
    {
     "data": {
      "text/plain": [
       "Age_At_Release                0\n",
       "Days_To_Return                0\n",
       "Release_Type                  0\n",
       "Race_Ethnicity                0\n",
       "Sex                           0\n",
       "Offense_Classification        0\n",
       "Offense_Type                  0\n",
       "Offense_Subtype               0\n",
       "Return_To_Prison              0\n",
       "Recidivism_Type               0\n",
       "New_Offense_Classification    0\n",
       "New_Offense_Type              0\n",
       "New_Offense_Subtype           0\n",
       "dtype: int64"
      ]
     },
     "execution_count": 244,
     "metadata": {},
     "output_type": "execute_result"
    }
   ],
   "source": [
    "data.isnull().sum()"
   ]
  },
  {
   "attachments": {},
   "cell_type": "markdown",
   "metadata": {},
   "source": [
    "Create Training and Test Datasets"
   ]
  },
  {
   "cell_type": "code",
   "execution_count": 245,
   "metadata": {},
   "outputs": [],
   "source": [
    "x = data[['Age_At_Release', 'Race_Ethnicity', 'Sex', 'Offense_Classification',\n",
    "          'Offense_Type', 'Offense_Subtype', 'New_Offense_Classification', 'New_Offense_Type', 'New_Offense_Subtype']].astype(float)\n",
    "y = data[['Return_To_Prison']].astype(float)"
   ]
  },
  {
   "cell_type": "code",
   "execution_count": 246,
   "metadata": {},
   "outputs": [
    {
     "name": "stdout",
     "output_type": "stream",
     "text": [
      "['Age_At_Release', 'Race_Ethnicity', 'Sex', 'Offense_Classification', 'Offense_Type', 'Offense_Subtype', 'New_Offense_Classification', 'New_Offense_Type', 'New_Offense_Subtype']\n"
     ]
    }
   ],
   "source": [
    "print(list(x.columns.values))"
   ]
  },
  {
   "cell_type": "code",
   "execution_count": 247,
   "metadata": {},
   "outputs": [
    {
     "name": "stdout",
     "output_type": "stream",
     "text": [
      "['Return_To_Prison']\n"
     ]
    }
   ],
   "source": [
    "print(list(y.columns.values))"
   ]
  },
  {
   "cell_type": "code",
   "execution_count": 248,
   "metadata": {},
   "outputs": [],
   "source": [
    "x_train, x_test, y_train, y_test = train_test_split(\n",
    "    x, y, test_size=0.20, random_state=5)"
   ]
  },
  {
   "cell_type": "code",
   "execution_count": 249,
   "metadata": {},
   "outputs": [
    {
     "name": "stdout",
     "output_type": "stream",
     "text": [
      "(20816, 9)\n",
      "(5204, 9)\n",
      "(20816, 1)\n",
      "(5204, 1)\n"
     ]
    }
   ],
   "source": [
    "print(x_train.shape)\n",
    "print(x_test.shape)\n",
    "print(y_train.shape)\n",
    "print(y_test.shape)"
   ]
  },
  {
   "cell_type": "code",
   "execution_count": 250,
   "metadata": {},
   "outputs": [],
   "source": [
    "y_train = y_train.values.ravel()"
   ]
  },
  {
   "attachments": {},
   "cell_type": "markdown",
   "metadata": {},
   "source": [
    "Predict Classification"
   ]
  },
  {
   "cell_type": "code",
   "execution_count": 251,
   "metadata": {},
   "outputs": [],
   "source": [
    "model1 = LogisticRegression(random_state=5, multi_class='multinomial',\n",
    "                            penalty='none', solver='newton-cg').fit(x_train, y_train)"
   ]
  },
  {
   "cell_type": "code",
   "execution_count": 252,
   "metadata": {},
   "outputs": [],
   "source": [
    "pred = model1.predict(x_test)"
   ]
  },
  {
   "cell_type": "code",
   "execution_count": 253,
   "metadata": {},
   "outputs": [
    {
     "name": "stdout",
     "output_type": "stream",
     "text": [
      "{'C': 1.0, 'class_weight': None, 'dual': False, 'fit_intercept': True, 'intercept_scaling': 1, 'l1_ratio': None, 'max_iter': 100, 'multi_class': 'multinomial', 'n_jobs': None, 'penalty': 'none', 'random_state': 5, 'solver': 'newton-cg', 'tol': 0.0001, 'verbose': 0, 'warm_start': False}\n"
     ]
    }
   ],
   "source": [
    "param = model1.get_params()\n",
    "print(param)"
   ]
  },
  {
   "attachments": {},
   "cell_type": "markdown",
   "metadata": {},
   "source": [
    "Print Model Parameters"
   ]
  },
  {
   "cell_type": "code",
   "execution_count": 254,
   "metadata": {},
   "outputs": [
    {
     "name": "stdout",
     "output_type": "stream",
     "text": [
      "Intercept: \n",
      " [-1.14983405]\n",
      "Coefficients: \n",
      " [[-0.09947059  0.01496056  0.06054868  0.0222689  -0.05272345  0.00589469\n",
      "   1.04138182  1.27053899  0.84646587]]\n"
     ]
    }
   ],
   "source": [
    "print('Intercept: \\n', model1.intercept_)\n",
    "print('Coefficients: \\n', model1.coef_)"
   ]
  },
  {
   "attachments": {},
   "cell_type": "markdown",
   "metadata": {},
   "source": [
    "Calculate Odds Ratio Estimates"
   ]
  },
  {
   "cell_type": "code",
   "execution_count": 255,
   "metadata": {},
   "outputs": [
    {
     "data": {
      "text/plain": [
       "array([[0.90531657, 1.01507303, 1.06241931, 1.0225187 , 0.94864232,\n",
       "        1.0059121 , 2.8331292 , 3.56277235, 2.33139283]])"
      ]
     },
     "execution_count": 255,
     "metadata": {},
     "output_type": "execute_result"
    }
   ],
   "source": [
    "np.exp(model1.coef_)"
   ]
  },
  {
   "attachments": {},
   "cell_type": "markdown",
   "metadata": {},
   "source": [
    "Statsmodels to Assess Variables"
   ]
  },
  {
   "cell_type": "code",
   "execution_count": 256,
   "metadata": {},
   "outputs": [
    {
     "data": {
      "text/plain": [
       "array([[2.0, 433.0, 4.0, ..., 5.0, 1.0, 25.0],\n",
       "       [2.0, 453.0, 2.0, ..., 0.0, 0.0, 0.0],\n",
       "       [3.0, 832.0, 4.0, ..., 0.0, 0.0, 0.0],\n",
       "       ...,\n",
       "       [2.0, 0.0, 5.0, ..., 0.0, 0.0, 0.0],\n",
       "       [2.0, 0.0, 10.0, ..., 0.0, 0.0, 0.0],\n",
       "       [3.0, 369.0, 8.0, ..., 6.0, 5.0, 11.0]], dtype=object)"
      ]
     },
     "execution_count": 256,
     "metadata": {},
     "output_type": "execute_result"
    }
   ],
   "source": [
    "np.asarray(data)"
   ]
  },
  {
   "cell_type": "code",
   "execution_count": 257,
   "metadata": {},
   "outputs": [],
   "source": [
    "logit_model = sm.MNLogit(y_train, sm.add_constant(x_train))"
   ]
  },
  {
   "cell_type": "code",
   "execution_count": 258,
   "metadata": {},
   "outputs": [
    {
     "name": "stdout",
     "output_type": "stream",
     "text": [
      "Warning: Maximum number of iterations has been exceeded.\n",
      "         Current function value: 0.240638\n",
      "         Iterations: 35\n",
      "                          MNLogit Regression Results                          \n",
      "==============================================================================\n",
      "Dep. Variable:                      y   No. Observations:                20816\n",
      "Model:                        MNLogit   Df Residuals:                    20806\n",
      "Method:                           MLE   Df Model:                            9\n",
      "Date:                Tue, 25 Apr 2023   Pseudo R-squ.:                  0.6222\n",
      "Time:                        16:02:05   Log-Likelihood:                -5009.1\n",
      "converged:                      False   LL-Null:                       -13258.\n",
      "Covariance Type:            nonrobust   LLR p-value:                     0.000\n",
      "==============================================================================================\n",
      "                       y=2       coef    std err          z      P>|z|      [0.025      0.975]\n",
      "----------------------------------------------------------------------------------------------\n",
      "const                         -2.2997      0.258     -8.925      0.000      -2.805      -1.795\n",
      "Age_At_Release                -0.1989      0.025     -8.011      0.000      -0.248      -0.150\n",
      "Race_Ethnicity                 0.0299      0.016      1.831      0.067      -0.002       0.062\n",
      "Sex                            0.1211      0.081      1.501      0.133      -0.037       0.279\n",
      "Offense_Classification         0.0445      0.017      2.610      0.009       0.011       0.078\n",
      "Offense_Type                  -0.1054      0.021     -5.100      0.000      -0.146      -0.065\n",
      "Offense_Subtype                0.0118      0.004      3.285      0.001       0.005       0.019\n",
      "New_Offense_Classification     8.0263   1.45e+07   5.54e-07      1.000   -2.84e+07    2.84e+07\n",
      "New_Offense_Type               2.7476   7.54e+06   3.65e-07      1.000   -1.48e+07    1.48e+07\n",
      "New_Offense_Subtype            1.1501   5.15e+06   2.23e-07      1.000   -1.01e+07    1.01e+07\n",
      "==============================================================================================\n",
      "                                      Results: MNLogit\n",
      "============================================================================================\n",
      "Model:                       MNLogit                   Pseudo R-squared:          0.622     \n",
      "Dependent Variable:          y                         AIC:                       10038.2469\n",
      "Date:                        2023-04-25 16:02          BIC:                       10117.6817\n",
      "No. Observations:            20816                     Log-Likelihood:            -5009.1   \n",
      "Df Model:                    9                         LL-Null:                   -13258.   \n",
      "Df Residuals:                20806                     LLR p-value:               0.0000    \n",
      "Converged:                   0.0000                    Scale:                     1.0000    \n",
      "No. Iterations:              35.0000                                                        \n",
      "--------------------------------------------------------------------------------------------\n",
      "          y = 0             Coef.     Std.Err.      t    P>|t|      [0.025         0.975]   \n",
      "--------------------------------------------------------------------------------------------\n",
      "                     const -2.2997        0.2577 -8.9246 0.0000        -2.8047       -1.7946\n",
      "            Age_At_Release -0.1989        0.0248 -8.0112 0.0000        -0.2476       -0.1503\n",
      "            Race_Ethnicity  0.0299        0.0163  1.8309 0.0671        -0.0021        0.0620\n",
      "                       Sex  0.1211        0.0807  1.5012 0.1333        -0.0370        0.2792\n",
      "    Offense_Classification  0.0445        0.0171  2.6104 0.0090         0.0111        0.0780\n",
      "              Offense_Type -0.1054        0.0207 -5.0998 0.0000        -0.1460       -0.0649\n",
      "           Offense_Subtype  0.0118        0.0036  3.2854 0.0010         0.0048        0.0188\n",
      "New_Offense_Classification  8.0263 14501049.1518  0.0000 1.0000 -28421526.0492 28421542.1019\n",
      "          New_Offense_Type  2.7476  7535360.3278  0.0000 1.0000 -14769032.1054 14769037.6007\n",
      "       New_Offense_Subtype  1.1501  5149015.9602  0.0000 1.0000 -10091884.6877 10091886.9880\n",
      "============================================================================================\n",
      "\n"
     ]
    },
    {
     "name": "stderr",
     "output_type": "stream",
     "text": [
      "c:\\Users\\janie\\anaconda3\\lib\\site-packages\\statsmodels\\base\\model.py:604: ConvergenceWarning: Maximum Likelihood optimization failed to converge. Check mle_retvals\n",
      "  warnings.warn(\"Maximum Likelihood optimization failed to \"\n"
     ]
    }
   ],
   "source": [
    "result = logit_model.fit()\n",
    "stats1 = result.summary()\n",
    "stats2 = result.summary2()\n",
    "print(stats1)\n",
    "print(stats2)"
   ]
  },
  {
   "attachments": {},
   "cell_type": "markdown",
   "metadata": {},
   "source": [
    "Accuracy"
   ]
  },
  {
   "cell_type": "code",
   "execution_count": 259,
   "metadata": {},
   "outputs": [
    {
     "name": "stdout",
     "output_type": "stream",
     "text": [
      "Accuracy Score: 0.925249807840123\n"
     ]
    }
   ],
   "source": [
    "print('Accuracy Score:', metrics.accuracy_score(y_test, pred))"
   ]
  },
  {
   "cell_type": "code",
   "execution_count": 260,
   "metadata": {},
   "outputs": [
    {
     "name": "stdout",
     "output_type": "stream",
     "text": [
      "              precision    recall  f1-score   support\n",
      "\n",
      "         1.0       0.90      1.00      0.95      3473\n",
      "         2.0       1.00      0.78      0.87      1731\n",
      "\n",
      "    accuracy                           0.93      5204\n",
      "   macro avg       0.95      0.89      0.91      5204\n",
      "weighted avg       0.93      0.93      0.92      5204\n",
      "\n"
     ]
    }
   ],
   "source": [
    "class_report = classification_report(y_test, pred)\n",
    "print(class_report)"
   ]
  }
 ],
 "metadata": {
  "kernelspec": {
   "display_name": "base",
   "language": "python",
   "name": "python3"
  },
  "language_info": {
   "codemirror_mode": {
    "name": "ipython",
    "version": 3
   },
   "file_extension": ".py",
   "mimetype": "text/x-python",
   "name": "python",
   "nbconvert_exporter": "python",
   "pygments_lexer": "ipython3",
   "version": "3.9.13"
  },
  "orig_nbformat": 4
 },
 "nbformat": 4,
 "nbformat_minor": 2
}
